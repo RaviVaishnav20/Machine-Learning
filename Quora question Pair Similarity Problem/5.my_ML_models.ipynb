{
 "cells": [
  {
   "cell_type": "markdown",
   "metadata": {},
   "source": [
    "<font color='#614D40'>\n",
    "<h5>Note:</h5><br>\n",
    "1. utils.py file contains custom build functions\n",
    "<ul>\n",
    "  <li> build_random_model</li>\n",
    "  <li>plot_confusion_matrix</li>\n",
    "  <li>get_text_responsecoding</li>\n",
    "    <li>get_gv_fea_dict</li>\n",
    "    <li>get_gv_feature</li>\n",
    "    <li>predict_and_plot_confusion_matrix</li>\n",
    "    <li>report_log_loss</li>\n",
    "    \n",
    "</ul>\n",
    "2. To plot confusion matrix for model, pass 'show_plot = True' predict_and_plot_confusion_matrix function\n",
    "<ul>\n",
    "  <li> e.g. predict_and_plot_confusion_matrix(train_x_onehotCoding, train_y, cv_x_onehotCoding, cv_y, clf, show_plot = True)</li>\n",
    "</ul>\n",
    "</font>"
   ]
  },
  {
   "cell_type": "markdown",
   "metadata": {},
   "source": [
    "<h2><font color='#40B5C4'> Importing Libraries </font></h2>"
   ]
  },
  {
   "cell_type": "code",
   "execution_count": 1,
   "metadata": {},
   "outputs": [],
   "source": [
    "#basic libraries\n",
    "import pandas as pd\n",
    "import matplotlib.pyplot as plt\n",
    "import time\n",
    "import warnings\n",
    "warnings.filterwarnings(\"ignore\")\n",
    "import numpy as np\n",
    "import seaborn as sns\n",
    "\n",
    "#regax and stopwords\n",
    "import re\n",
    "from nltk.corpus import stopwords\n",
    "\n",
    "#train test split\n",
    "from sklearn.model_selection import train_test_split\n",
    "\n",
    "# performance matrix\n",
    "from sklearn.metrics import confusion_matrix\n",
    "from sklearn.metrics import accuracy_score, log_loss\n",
    "\n",
    "#Custom class\n",
    "from utils import *\n",
    "\n",
    "#text to vector\n",
    "from collections import Counter, defaultdict\n",
    "from sklearn.feature_extraction.text import CountVectorizer\n",
    "from sklearn.preprocessing import normalize\n",
    "from sklearn.feature_extraction.text import TfidfVectorizer\n",
    "\n",
    "#stacking\n",
    "from scipy.sparse import hstack\n",
    "\n",
    "#ML algo\n",
    "from sklearn.calibration import CalibratedClassifierCV\n",
    "from sklearn.naive_bayes import MultinomialNB\n",
    "from sklearn.naive_bayes import GaussianNB\n",
    "from sklearn.neighbors import KNeighborsClassifier\n",
    "from sklearn.linear_model import SGDClassifier\n",
    "from sklearn.ensemble import RandomForestClassifier\n"
   ]
  },
  {
   "cell_type": "markdown",
   "metadata": {},
   "source": [
    "<h2><font color='#40B5C4'> Loading dataset </font></h2>"
   ]
  },
  {
   "cell_type": "code",
   "execution_count": 2,
   "metadata": {},
   "outputs": [],
   "source": [
    "data = pd.read_csv('file1.csv')\n",
    "print('Number of data points : ', data.shape[0])\n",
    "print('Number of features : ', data.shape[1])\n",
    "print('Features : ', data.columns.values)\n",
    "data = data.drop('Unnamed: 0', axis=1)\n",
    "print('Features : ', data.columns.values)"
   ]
  },
  {
   "cell_type": "code",
   "execution_count": 3,
   "metadata": {},
   "outputs": [
    {
     "name": "stdout",
     "output_type": "stream",
     "text": [
      "Number of data points :  404290\n",
      "Number of features :  31\n",
      "Features :  ['Unnamed: 0' 'id' 'question1' 'question2' 'is_duplicate' 'cwc_min'\n",
      " 'cwc_max' 'csc_min' 'csc_max' 'ctc_min' 'ctc_max' 'last_word_eq'\n",
      " 'first_word_eq' 'abs_len_diff' 'mean_len' 'token_set_ratio'\n",
      " 'token_sort_ratio' 'fuzz_ratio' 'fuzz_partial_ratio'\n",
      " 'longest_substr_ratio' 'freq_qid1' 'freq_qid2' 'q1len' 'q2len'\n",
      " 'q1_n_words' 'q2_n_words' 'word_Common' 'word_Total' 'word_share'\n",
      " 'freq_q1+q2' 'freq_q1-q2']\n",
      "Features :  ['question1' 'question2' 'is_duplicate' 'cwc_min' 'cwc_max' 'csc_min'\n",
      " 'csc_max' 'ctc_min' 'ctc_max' 'last_word_eq' 'first_word_eq'\n",
      " 'abs_len_diff' 'mean_len' 'token_set_ratio' 'token_sort_ratio'\n",
      " 'fuzz_ratio' 'fuzz_partial_ratio' 'longest_substr_ratio' 'freq_qid1'\n",
      " 'freq_qid2' 'q1len' 'q2len' 'q1_n_words' 'q2_n_words' 'word_Common'\n",
      " 'word_Total' 'word_share' 'freq_q1+q2' 'freq_q1-q2']\n"
     ]
    }
   ],
   "source": [
    "# data = pd.read_csv('final_features2.csv')\n",
    "# print('Number of data points : ', data.shape[0])\n",
    "# print('Number of features : ', data.shape[1])\n",
    "# print('Features : ', data.columns.values)\n",
    "# data = data.drop(['Unnamed: 0', 'id'], axis=1)\n",
    "# print('Features : ', data.columns.values)"
   ]
  },
  {
   "cell_type": "code",
   "execution_count": 4,
   "metadata": {},
   "outputs": [
    {
     "data": {
      "text/plain": [
       "20"
      ]
     },
     "execution_count": 4,
     "metadata": {},
     "output_type": "execute_result"
    }
   ],
   "source": [
    "len(data[data.isnull().any(axis=1)])"
   ]
  },
  {
   "cell_type": "code",
   "execution_count": 5,
   "metadata": {},
   "outputs": [
    {
     "data": {
      "text/plain": [
       "0"
      ]
     },
     "execution_count": 5,
     "metadata": {},
     "output_type": "execute_result"
    }
   ],
   "source": [
    "data = data.dropna(axis=0)\n",
    "len(data[data.isnull().any(axis=1)])"
   ]
  },
  {
   "cell_type": "code",
   "execution_count": 6,
   "metadata": {},
   "outputs": [],
   "source": [
    "y_true = data['is_duplicate'].values\n",
    "# split the data into test and train by maintaining same distribution of output varaible 'y_true' [stratify=y_true]\n",
    "X_train, test_df, y_train, y_test = train_test_split(data, y_true, stratify=y_true, test_size=0.2)\n",
    "# split the train data into train and cross validation by maintaining same distribution of output varaible 'y_train' [stratify=y_train]\n",
    "train_df, cv_df, y_train, y_cv = train_test_split(X_train, y_train, stratify=y_train, test_size=0.2)"
   ]
  },
  {
   "cell_type": "code",
   "execution_count": 7,
   "metadata": {},
   "outputs": [
    {
     "name": "stdout",
     "output_type": "stream",
     "text": [
      "Number of data points in train data: 258732\n",
      "Number of data points in test data: 80854\n",
      "Number of data points in cross validation data: 64684\n"
     ]
    }
   ],
   "source": [
    "print('Number of data points in train data:', train_df.shape[0])\n",
    "print('Number of data points in test data:', test_df.shape[0])\n",
    "print('Number of data points in cross validation data:', cv_df.shape[0])"
   ]
  },
  {
   "cell_type": "markdown",
   "metadata": {},
   "source": [
    "<h2><font color='#40B5C4'> Building random model(base model) </font></h2>"
   ]
  },
  {
   "cell_type": "code",
   "execution_count": 8,
   "metadata": {},
   "outputs": [
    {
     "name": "stdout",
     "output_type": "stream",
     "text": [
      "Log loss on Cross Validation Data using Random Model 0.8899718933008248\n",
      "Log loss on Test Data using Random Model 0.8842555449453418\n",
      "-------------------- Confusion matrix --------------------\n"
     ]
    },
    {
     "data": {
      "image/png": "[encoded data removed]",
      "text/plain": [
       "<Figure size 504x216 with 2 Axes>"
      ]
     },
     "metadata": {
      "needs_background": "light"
     },
     "output_type": "display_data"
    },
    {
     "name": "stdout",
     "output_type": "stream",
     "text": [
      "-------------------- Precision matrix (Columm Sum=1) --------------------\n"
     ]
    },
    {
     "data": {
      "image/png": "[encoded data removed]",
      "text/plain": [
       "<Figure size 504x216 with 2 Axes>"
      ]
     },
     "metadata": {
      "needs_background": "light"
     },
     "output_type": "display_data"
    },
    {
     "name": "stdout",
     "output_type": "stream",
     "text": [
      "-------------------- Recall matrix (Row sum=1) --------------------\n"
     ]
    },
    {
     "data": {
      "image/png": "[encoded data removed]",
      "text/plain": [
       "<Figure size 504x216 with 2 Axes>"
      ]
     },
     "metadata": {
      "needs_background": "light"
     },
     "output_type": "display_data"
    }
   ],
   "source": [
    "predicted_y = build_random_model(test_df, cv_df, y_cv, y_test)\n",
    "plot_confusion_matrix(y_test, predicted_y)"
   ]
  },
  {
   "cell_type": "markdown",
   "metadata": {},
   "source": [
    "<h2><font color='#40B5C4'> Data preprocessing </font></h2>"
   ]
  },
  {
   "cell_type": "markdown",
   "metadata": {},
   "source": [
    "<h4><font color='#BBA036'>Response coding for feature \"question1\"</font></h4>"
   ]
  },
  {
   "cell_type": "code",
   "execution_count": 9,
   "metadata": {},
   "outputs": [],
   "source": [
    "#response coding of text features\n",
    "train_question1_feature_responseCoding  = get_text_responsecoding(train_df, \"question1\", \"is_duplicate\", 2)\n",
    "test_question1_feature_responseCoding  = get_text_responsecoding(test_df, \"question1\", \"is_duplicate\", 2)\n",
    "cv_question1_feature_responseCoding  = get_text_responsecoding(cv_df, \"question1\", \"is_duplicate\", 2)"
   ]
  },
  {
   "cell_type": "code",
   "execution_count": 10,
   "metadata": {},
   "outputs": [],
   "source": [
    "# https://stackoverflow.com/a/16202486\n",
    "# we convert each row values such that they sum to 1  \n",
    "train_question1_feature_responseCoding = (train_question1_feature_responseCoding.T/train_question1_feature_responseCoding.sum(axis=1)).T\n",
    "test_question1_feature_responseCoding = (test_question1_feature_responseCoding.T/test_question1_feature_responseCoding.sum(axis=1)).T\n",
    "cv_question1_feature_responseCoding = (cv_question1_feature_responseCoding.T/cv_question1_feature_responseCoding.sum(axis=1)).T"
   ]
  },
  {
   "cell_type": "markdown",
   "metadata": {},
   "source": [
    "<h4><font color='#BBA036'>Response coding for feature \"question2\"</font></h4>"
   ]
  },
  {
   "cell_type": "code",
   "execution_count": 11,
   "metadata": {},
   "outputs": [],
   "source": [
    "#response coding of text features\n",
    "train_question2_feature_responseCoding  = get_text_responsecoding(train_df, \"question2\", \"is_duplicate\", 2)\n",
    "test_question2_feature_responseCoding  = get_text_responsecoding(test_df, \"question2\", \"is_duplicate\", 2)\n",
    "cv_question2_feature_responseCoding  = get_text_responsecoding(cv_df, \"question2\", \"is_duplicate\", 2)"
   ]
  },
  {
   "cell_type": "code",
   "execution_count": 12,
   "metadata": {},
   "outputs": [],
   "source": [
    "# https://stackoverflow.com/a/16202486\n",
    "# we convert each row values such that they sum to 1  \n",
    "train_question2_feature_responseCoding = (train_question2_feature_responseCoding.T/train_question2_feature_responseCoding.sum(axis=1)).T\n",
    "test_question2_feature_responseCoding = (test_question2_feature_responseCoding.T/test_question2_feature_responseCoding.sum(axis=1)).T\n",
    "cv_question2_feature_responseCoding = (cv_question2_feature_responseCoding.T/cv_question2_feature_responseCoding.sum(axis=1)).T"
   ]
  },
  {
   "cell_type": "markdown",
   "metadata": {},
   "source": [
    "<h4><font color='#BBA036'>TfIdf(or on hot encoded vector) for feature \"question1\"</font></h4>"
   ]
  },
  {
   "cell_type": "code",
   "execution_count": 13,
   "metadata": {},
   "outputs": [],
   "source": [
    "#tfidf text to vector\n",
    "vectorizer = TfidfVectorizer(max_features=1000)\n",
    "train_question1_feature_tfidf = vectorizer.fit_transform(train_df['question1'])\n",
    "\n",
    "# train_text_feature_onehotCoding.sum(axis=0).A1 will sum every row and returns (1*number of features) vector\n",
    "tfidf_fea_q1_counts = train_question1_feature_tfidf.sum(axis=0).A1\n"
   ]
  },
  {
   "cell_type": "markdown",
   "metadata": {},
   "source": [
    "<h4><font color='#BBA036'>Normalizing one hot encoded feature \"TEXT\" </font></h4>"
   ]
  },
  {
   "cell_type": "code",
   "execution_count": 14,
   "metadata": {},
   "outputs": [],
   "source": [
    "# don't forget to normalize every feature\n",
    "train_question1_feature_onehotCoding = normalize(train_question1_feature_tfidf, axis=0)\n",
    "\n",
    "# we use the same vectorizer that was trained on train data\n",
    "test_question1_feature_onehotCoding = vectorizer.transform(test_df['question1'])\n",
    "# don't forget to normalize every feature\n",
    "test_question1_feature_onehotCoding = normalize(test_question1_feature_onehotCoding, axis=0)\n",
    "\n",
    "# we use the same vectorizer that was trained on train data\n",
    "cv_question1_feature_onehotCoding = vectorizer.transform(cv_df['question1'])\n",
    "# don't forget to normalize every feature\n",
    "cv_question1_feature_onehotCoding = normalize(cv_question1_feature_onehotCoding, axis=0)"
   ]
  },
  {
   "cell_type": "markdown",
   "metadata": {},
   "source": [
    "<h4><font color='#BBA036'>TfIdf(or on hot encoded vector) for feature \"question2\"</font></h4>"
   ]
  },
  {
   "cell_type": "code",
   "execution_count": 15,
   "metadata": {},
   "outputs": [],
   "source": [
    "#tfidf text to vector\n",
    "vectorizer = TfidfVectorizer(max_features=1000)\n",
    "train_question2_feature_tfidf = vectorizer.fit_transform(train_df['question2'])\n",
    "\n",
    "# train_text_feature_onehotCoding.sum(axis=0).A1 will sum every row and returns (1*number of features) vector\n",
    "tfidf_fea_q2_counts = train_question2_feature_tfidf.sum(axis=0).A1\n"
   ]
  },
  {
   "cell_type": "markdown",
   "metadata": {},
   "source": [
    "<h4><font color='#BBA036'>Normalizing one hot encoded feature \"TEXT\" </font></h4>"
   ]
  },
  {
   "cell_type": "code",
   "execution_count": 16,
   "metadata": {},
   "outputs": [],
   "source": [
    "# don't forget to normalize every feature\n",
    "train_question2_feature_onehotCoding = normalize(train_question2_feature_tfidf, axis=0)\n",
    "\n",
    "# we use the same vectorizer that was trained on train data\n",
    "test_question2_feature_onehotCoding = vectorizer.transform(test_df['question2'])\n",
    "# don't forget to normalize every feature\n",
    "test_question2_feature_onehotCoding = normalize(test_question2_feature_onehotCoding, axis=0)\n",
    "\n",
    "# we use the same vectorizer that was trained on train data\n",
    "cv_question2_feature_onehotCoding = vectorizer.transform(cv_df['question2'])\n",
    "# don't forget to normalize every feature\n",
    "cv_question2_feature_onehotCoding = normalize(cv_question2_feature_onehotCoding, axis=0)"
   ]
  },
  {
   "cell_type": "markdown",
   "metadata": {
    "id": "Gd7PORPUOQyy"
   },
   "source": [
    "<h1><center><font color='#BBA036'>Stacking the three types of features</font></center></h1>"
   ]
  },
  {
   "cell_type": "code",
   "execution_count": 17,
   "metadata": {
    "id": "W1VYFJb_OQyy"
   },
   "outputs": [],
   "source": [
    "# merging gene, variance and text features\n",
    "\n",
    "# building train, test and cross validation data sets\n",
    "# a = [[1, 2], \n",
    "#      [3, 4]]\n",
    "# b = [[4, 5], \n",
    "#      [6, 7]]\n",
    "# hstack(a, b) = [[1, 2, 4, 5],\n",
    "#                [ 3, 4, 6, 7]]\n",
    "\n",
    "train_x_onehotCoding = hstack((train_question1_feature_onehotCoding,train_question2_feature_onehotCoding)).tocsr()\n",
    "test_x_onehotCoding = hstack((test_question1_feature_onehotCoding,test_question2_feature_onehotCoding)).tocsr()\n",
    "cv_x_onehotCoding = hstack((cv_question1_feature_onehotCoding,cv_question2_feature_onehotCoding)).tocsr()\n",
    "\n",
    "train_y = np.array(list(train_df['is_duplicate']))\n",
    "test_y = np.array(list(test_df['is_duplicate']))\n",
    "cv_y = np.array(list(cv_df['is_duplicate']))\n",
    "\n",
    "\n",
    "train_x_responseCoding = np.hstack((train_question1_feature_responseCoding, train_question2_feature_responseCoding))\n",
    "test_x_responseCoding = np.hstack((test_question1_feature_responseCoding, test_question2_feature_responseCoding))\n",
    "cv_x_responseCoding = np.hstack((cv_question1_feature_responseCoding, cv_question2_feature_responseCoding))\n"
   ]
  },
  {
   "cell_type": "markdown",
   "metadata": {
    "id": "XXWA-CNqOQys"
   },
   "source": [
    "<h2><font color='#40B5C4'>Machine Learning Models </font></h2>"
   ]
  },
  {
   "cell_type": "code",
   "execution_count": 18,
   "metadata": {},
   "outputs": [],
   "source": [
    "#list to store some records for final summary\n",
    "Model_name = []\n",
    "train_losses_list = []\n",
    "cv_losses_list = []\n",
    "test_losses_list = []\n",
    "misclassified_percentage= []"
   ]
  },
  {
   "cell_type": "markdown",
   "metadata": {},
   "source": [
    "<h3><font color='#235DA3'>Naive Bayas (with one hot encoding)</font></h3>"
   ]
  },
  {
   "cell_type": "markdown",
   "metadata": {},
   "source": [
    "<h4><font color='#82ADCB'>Hyper parameter tuning</font></h4>"
   ]
  },
  {
   "cell_type": "code",
   "execution_count": 19,
   "metadata": {},
   "outputs": [
    {
     "name": "stdout",
     "output_type": "stream",
     "text": [
      "for alpha = 1e-05\n",
      "Log Loss : 0.6157848036906082\n",
      "for alpha = 0.0001\n",
      "Log Loss : 0.6157935979239848\n",
      "for alpha = 0.001\n",
      "Log Loss : 0.6158044884271658\n",
      "for alpha = 0.1\n",
      "Log Loss : 0.6158802524792248\n",
      "for alpha = 1\n",
      "Log Loss : 0.6162396579766746\n",
      "for alpha = 10\n",
      "Log Loss : 0.6183831228698912\n",
      "for alpha = 100\n",
      "Log Loss : 0.6457730245610245\n",
      "for alpha = 1000\n",
      "Log Loss : 0.6752937425399655\n"
     ]
    },
    {
     "data": {
      "image/png": "[encoded data removed]",
      "text/plain": [
       "<Figure size 432x288 with 1 Axes>"
      ]
     },
     "metadata": {
      "needs_background": "light"
     },
     "output_type": "display_data"
    },
    {
     "name": "stdout",
     "output_type": "stream",
     "text": [
      "For values of best alpha =  1e-05 The train log loss is: 0.5786693770925494\n",
      "For values of best alpha =  1e-05 The cross validation log loss is: 0.6157848036906082\n",
      "For values of best alpha =  1e-05 The test log loss is: 0.6017751948679843\n"
     ]
    }
   ],
   "source": [
    "alpha = [0.00001, 0.0001, 0.001, 0.1, 1, 10, 100,1000]\n",
    "cv_log_error_array = []\n",
    "for i in alpha:\n",
    "    print(\"for alpha =\", i)\n",
    "    clf = MultinomialNB(alpha=i)\n",
    "    clf.fit(train_x_onehotCoding, train_y)\n",
    "    sig_clf = CalibratedClassifierCV(clf, method=\"sigmoid\")\n",
    "    sig_clf.fit(train_x_onehotCoding, train_y)\n",
    "    sig_clf_probs = sig_clf.predict_proba(cv_x_onehotCoding)\n",
    "    cv_log_error_array.append(log_loss(cv_y, sig_clf_probs, labels=clf.classes_, eps=1e-15))\n",
    "    # to avoid rounding error while multiplying probabilites we use log-probability estimates\n",
    "    print(\"Log Loss :\",log_loss(cv_y, sig_clf_probs)) \n",
    "\n",
    "fig, ax = plt.subplots()\n",
    "ax.plot(np.log10(alpha), cv_log_error_array,c='g')\n",
    "for i, txt in enumerate(np.round(cv_log_error_array,3)):\n",
    "    ax.annotate((alpha[i],str(txt)), (np.log10(alpha[i]),cv_log_error_array[i]))\n",
    "plt.grid()\n",
    "plt.xticks(np.log10(alpha))\n",
    "plt.title(\"Cross Validation Error for each alpha\")\n",
    "plt.xlabel(\"Alpha i's\")\n",
    "plt.ylabel(\"Error measure\")\n",
    "plt.show()\n",
    "\n",
    "\n",
    "best_alpha = np.argmin(cv_log_error_array)\n",
    "clf = MultinomialNB(alpha=alpha[best_alpha])\n",
    "clf.fit(train_x_onehotCoding, train_y)\n",
    "sig_clf = CalibratedClassifierCV(clf, method=\"sigmoid\")\n",
    "sig_clf.fit(train_x_onehotCoding, train_y)\n",
    "\n",
    "\n",
    "predict_y = sig_clf.predict_proba(train_x_onehotCoding)\n",
    "naive_tr_loss = log_loss(y_train, predict_y, labels=clf.classes_, eps=1e-15)\n",
    "print('For values of best alpha = ', alpha[best_alpha], \"The train log loss is:\",naive_tr_loss)\n",
    "predict_y = sig_clf.predict_proba(cv_x_onehotCoding)\n",
    "naive_cv_loss = log_loss(y_cv, predict_y, labels=clf.classes_, eps=1e-15)\n",
    "print('For values of best alpha = ', alpha[best_alpha], \"The cross validation log loss is:\",naive_cv_loss)\n",
    "predict_y = sig_clf.predict_proba(test_x_onehotCoding)\n",
    "naive_te_loss = log_loss(y_test, predict_y, labels=clf.classes_, eps=1e-15)\n",
    "print('For values of best alpha = ', alpha[best_alpha], \"The test log loss is:\",naive_te_loss)\n",
    "\n",
    "#For Summary\n",
    "Model_name.append(\"MultinomialNB-OHE\")\n",
    "train_losses_list.append(naive_tr_loss)\n",
    "cv_losses_list.append(naive_cv_loss)\n",
    "test_losses_list.append(naive_te_loss)"
   ]
  },
  {
   "cell_type": "markdown",
   "metadata": {},
   "source": [
    "<h4><font color='#82ADCB'>Testing the model with best hyper paramters</font></h4>"
   ]
  },
  {
   "cell_type": "code",
   "execution_count": 20,
   "metadata": {},
   "outputs": [
    {
     "name": "stdout",
     "output_type": "stream",
     "text": [
      "Log Loss : 0.6157848036906082\n",
      "Number of missclassified point : 0.2945086883928019\n"
     ]
    }
   ],
   "source": [
    "clf = MultinomialNB(alpha=alpha[best_alpha])\n",
    "clf.fit(train_x_onehotCoding, train_y)\n",
    "sig_clf = CalibratedClassifierCV(clf, method=\"sigmoid\")\n",
    "sig_clf.fit(train_x_onehotCoding, train_y)\n",
    "sig_clf_probs = sig_clf.predict_proba(cv_x_onehotCoding)\n",
    "# to avoid rounding error while multiplying probabilites we use log-probability estimates\n",
    "print(\"Log Loss :\",log_loss(cv_y, sig_clf_probs))\n",
    "missclassified_p =  np.count_nonzero((sig_clf.predict(cv_x_onehotCoding)- cv_y))/cv_y.shape[0]\n",
    "misclassified_percentage.append(missclassified_p*100)\n",
    "print(\"Number of missclassified point :\",missclassified_p)\n",
    "# plot_confusion_matrix(cv_y, sig_clf.predict(cv_x_onehotCoding.toarray()))"
   ]
  },
  {
   "cell_type": "markdown",
   "metadata": {},
   "source": [
    "<h3><font color='#235DA3'>Naive Bayas (with response coding)</font></h3>"
   ]
  },
  {
   "cell_type": "markdown",
   "metadata": {},
   "source": [
    "<h4><font color='#82ADCB'>Hyper parameter tuning</font></h4>"
   ]
  },
  {
   "cell_type": "code",
   "execution_count": 21,
   "metadata": {},
   "outputs": [
    {
     "name": "stdout",
     "output_type": "stream",
     "text": [
      "for alpha = 1e-05\n",
      "Log Loss : 0.778614756919626\n",
      "for alpha = 0.0001\n",
      "Log Loss : 0.7786147569836229\n",
      "for alpha = 0.001\n",
      "Log Loss : 0.7786147575495614\n",
      "for alpha = 0.1\n",
      "Log Loss : 0.7786148212597677\n",
      "for alpha = 1\n",
      "Log Loss : 0.7786154001547153\n",
      "for alpha = 10\n",
      "Log Loss : 0.7786211576928644\n",
      "for alpha = 100\n",
      "Log Loss : 0.7786752145803336\n",
      "for alpha = 1000\n",
      "Log Loss : 0.7270196238487338\n"
     ]
    },
    {
     "data": {
      "image/png": "[encoded data removed]",
      "text/plain": [
       "<Figure size 432x288 with 1 Axes>"
      ]
     },
     "metadata": {
      "needs_background": "light"
     },
     "output_type": "display_data"
    },
    {
     "name": "stdout",
     "output_type": "stream",
     "text": [
      "For values of best alpha =  1000 The train log loss is: 0.6369455821693812\n",
      "For values of best alpha =  1000 The cross validation log loss is: 0.7270196238487338\n",
      "For values of best alpha =  1000 The test log loss is: 0.6940712178434021\n"
     ]
    }
   ],
   "source": [
    "alpha = [0.00001, 0.0001, 0.001, 0.1, 1, 10, 100,1000]\n",
    "cv_log_error_array = []\n",
    "for i in alpha:\n",
    "    print(\"for alpha =\", i)\n",
    "    clf = MultinomialNB(alpha=i)\n",
    "    clf.fit(train_x_responseCoding, train_y)\n",
    "    sig_clf = CalibratedClassifierCV(clf, method=\"sigmoid\")\n",
    "    sig_clf.fit(train_x_responseCoding, train_y)\n",
    "    sig_clf_probs = sig_clf.predict_proba(cv_x_responseCoding)\n",
    "    cv_log_error_array.append(log_loss(cv_y, sig_clf_probs, labels=clf.classes_, eps=1e-15))\n",
    "    # to avoid rounding error while multiplying probabilites we use log-probability estimates\n",
    "    print(\"Log Loss :\",log_loss(cv_y, sig_clf_probs)) \n",
    "\n",
    "fig, ax = plt.subplots()\n",
    "ax.plot(np.log10(alpha), cv_log_error_array,c='g')\n",
    "for i, txt in enumerate(np.round(cv_log_error_array,3)):\n",
    "    ax.annotate((alpha[i],str(txt)), (np.log10(alpha[i]),cv_log_error_array[i]))\n",
    "plt.grid()\n",
    "plt.xticks(np.log10(alpha))\n",
    "plt.title(\"Cross Validation Error for each alpha\")\n",
    "plt.xlabel(\"Alpha i's\")\n",
    "plt.ylabel(\"Error measure\")\n",
    "plt.show()\n",
    "\n",
    "\n",
    "best_alpha = np.argmin(cv_log_error_array)\n",
    "clf = MultinomialNB(alpha=alpha[best_alpha])\n",
    "clf.fit(train_x_responseCoding, train_y)\n",
    "sig_clf = CalibratedClassifierCV(clf, method=\"sigmoid\")\n",
    "sig_clf.fit(train_x_responseCoding, train_y)\n",
    "\n",
    "\n",
    "predict_y = sig_clf.predict_proba(train_x_responseCoding)\n",
    "naive_tr_loss = log_loss(y_train, predict_y, labels=clf.classes_, eps=1e-15)\n",
    "print('For values of best alpha = ', alpha[best_alpha], \"The train log loss is:\",naive_tr_loss)\n",
    "predict_y = sig_clf.predict_proba(cv_x_responseCoding)\n",
    "naive_cv_loss = log_loss(y_cv, predict_y, labels=clf.classes_, eps=1e-15)\n",
    "print('For values of best alpha = ', alpha[best_alpha], \"The cross validation log loss is:\",naive_cv_loss)\n",
    "predict_y = sig_clf.predict_proba(test_x_responseCoding)\n",
    "naive_te_loss = log_loss(y_test, predict_y, labels=clf.classes_, eps=1e-15)\n",
    "print('For values of best alpha = ', alpha[best_alpha], \"The test log loss is:\",naive_te_loss)\n",
    "\n",
    "#For Summary\n",
    "Model_name.append(\"MultinomialNB-RC\")\n",
    "train_losses_list.append(naive_tr_loss)\n",
    "cv_losses_list.append(naive_cv_loss)\n",
    "test_losses_list.append(naive_te_loss)"
   ]
  },
  {
   "cell_type": "markdown",
   "metadata": {},
   "source": [
    "<h4><font color='#82ADCB'>Testing the model with best hyper paramters</font></h4>"
   ]
  },
  {
   "cell_type": "code",
   "execution_count": 22,
   "metadata": {},
   "outputs": [
    {
     "name": "stdout",
     "output_type": "stream",
     "text": [
      "Log Loss : 0.7270196238487338\n",
      "Number of missclassified point : 0.3692103147609919\n"
     ]
    }
   ],
   "source": [
    "clf = MultinomialNB(alpha=alpha[best_alpha])\n",
    "clf.fit(train_x_responseCoding, train_y)\n",
    "sig_clf = CalibratedClassifierCV(clf, method=\"sigmoid\")\n",
    "sig_clf.fit(train_x_responseCoding, train_y)\n",
    "sig_clf_probs = sig_clf.predict_proba(cv_x_responseCoding)\n",
    "# to avoid rounding error while multiplying probabilites we use log-probability estimates\n",
    "print(\"Log Loss :\",log_loss(cv_y, sig_clf_probs))\n",
    "missclassified_p =  np.count_nonzero((sig_clf.predict(cv_x_responseCoding)- cv_y))/cv_y.shape[0]\n",
    "misclassified_percentage.append(missclassified_p*100)\n",
    "print(\"Number of missclassified point :\",missclassified_p)\n",
    "# plot_confusion_matrix(cv_y, sig_clf.predict(cv_x_responseCoding))"
   ]
  },
  {
   "cell_type": "markdown",
   "metadata": {},
   "source": [
    "<h3><font color='#235DA3'>K Nearest Neighbour Classification(with one hot encoding)</font></h3>"
   ]
  },
  {
   "cell_type": "markdown",
   "metadata": {},
   "source": [
    "<h4><font color='#82ADCB'>Hyper parameter tuning</font></h4>"
   ]
  },
  {
   "cell_type": "code",
   "execution_count": 23,
   "metadata": {},
   "outputs": [],
   "source": [
    "# alpha = [5, 11, 15, 21, 31, 41, 51, 99]\n",
    "# cv_log_error_array = []\n",
    "# for i in alpha:\n",
    "#     print(\"for alpha =\", i)\n",
    "#     clf = KNeighborsClassifier(n_neighbors=i)\n",
    "#     clf.fit(train_x_onehotCoding, train_y)\n",
    "#     sig_clf = CalibratedClassifierCV(clf, method=\"sigmoid\")\n",
    "#     sig_clf.fit(train_x_onehotCoding, train_y)\n",
    "#     sig_clf_probs = sig_clf.predict_proba(cv_x_onehotCoding)\n",
    "#     cv_log_error_array.append(log_loss(cv_y, sig_clf_probs, labels=clf.classes_, eps=1e-15))\n",
    "#     # to avoid rounding error while multiplying probabilites we use log-probability estimates\n",
    "#     print(\"Log Loss :\",log_loss(cv_y, sig_clf_probs)) \n",
    "\n",
    "# fig, ax = plt.subplots()\n",
    "# ax.plot(alpha, cv_log_error_array,c='g')\n",
    "# for i, txt in enumerate(np.round(cv_log_error_array,3)):\n",
    "#     ax.annotate((alpha[i],str(txt)), (alpha[i],cv_log_error_array[i]))\n",
    "# plt.grid()\n",
    "# plt.title(\"Cross Validation Error for each alpha\")\n",
    "# plt.xlabel(\"Alpha i's\")\n",
    "# plt.ylabel(\"Error measure\")\n",
    "# plt.show()\n",
    "\n",
    "\n",
    "# best_alpha = np.argmin(cv_log_error_array)\n",
    "# clf = KNeighborsClassifier(n_neighbors=alpha[best_alpha])\n",
    "# clf.fit(train_x_onehotCoding, train_y)\n",
    "# sig_clf = CalibratedClassifierCV(clf, method=\"sigmoid\")\n",
    "# sig_clf.fit(train_x_onehotCoding, train_y)\n",
    "\n",
    "# predict_y = sig_clf.predict_proba(train_x_onehotCoding)\n",
    "# knn_tr_loss = log_loss(y_train, predict_y, labels=clf.classes_, eps=1e-15)\n",
    "# print('For values of best alpha = ', alpha[best_alpha], \"The train log loss is:\",knn_tr_loss)\n",
    "# predict_y = sig_clf.predict_proba(cv_x_onehotCoding)\n",
    "# knn_cv_loss = log_loss(y_cv, predict_y, labels=clf.classes_, eps=1e-15)\n",
    "# print('For values of best alpha = ', alpha[best_alpha], \"The cross validation log loss is:\",knn_cv_loss)\n",
    "# predict_y = sig_clf.predict_proba(test_x_onehotCoding)\n",
    "# knn_te_loss = log_loss(y_test, predict_y, labels=clf.classes_, eps=1e-15)\n",
    "# print('For values of best alpha = ', alpha[best_alpha], \"The test log loss is:\",knn_te_loss)\n",
    "\n",
    "# #For Summary\n",
    "# Model_name.append(\"KNN-OHE\")\n",
    "# train_losses_list.append(knn_tr_loss)\n",
    "# cv_losses_list.append(knn_cv_loss)\n",
    "# test_losses_list.append(knn_te_loss)"
   ]
  },
  {
   "cell_type": "code",
   "execution_count": 24,
   "metadata": {},
   "outputs": [],
   "source": [
    "# clf = KNeighborsClassifier(n_neighbors=alpha[best_alpha])\n",
    "# missclassified_p = predict_and_plot_confusion_matrix(train_x_onehotCoding, train_y, cv_x_onehotCoding, cv_y, clf, show_plot = True)\n",
    "# misclassified_percentage.append(missclassified_p*100)"
   ]
  },
  {
   "cell_type": "markdown",
   "metadata": {},
   "source": [
    "<h3><font color='#235DA3'>K Nearest Neighbour Classification(with response coding)</font></h3>"
   ]
  },
  {
   "cell_type": "code",
   "execution_count": 25,
   "metadata": {},
   "outputs": [],
   "source": [
    "# alpha = [5, 11, 15, 21, 31, 41, 51, 99]\n",
    "# cv_log_error_array = []\n",
    "# for i in alpha:\n",
    "#     print(\"for alpha =\", i)\n",
    "#     clf = KNeighborsClassifier(n_neighbors=i)\n",
    "#     clf.fit(train_x_responseCoding, train_y)\n",
    "#     sig_clf = CalibratedClassifierCV(clf, method=\"sigmoid\")\n",
    "#     sig_clf.fit(train_x_responseCoding, train_y)\n",
    "#     sig_clf_probs = sig_clf.predict_proba(cv_x_responseCoding)\n",
    "#     cv_log_error_array.append(log_loss(cv_y, sig_clf_probs, labels=clf.classes_, eps=1e-15))\n",
    "#     # to avoid rounding error while multiplying probabilites we use log-probability estimates\n",
    "#     print(\"Log Loss :\",log_loss(cv_y, sig_clf_probs)) \n",
    "\n",
    "# fig, ax = plt.subplots()\n",
    "# ax.plot(alpha, cv_log_error_array,c='g')\n",
    "# for i, txt in enumerate(np.round(cv_log_error_array,3)):\n",
    "#     ax.annotate((alpha[i],str(txt)), (alpha[i],cv_log_error_array[i]))\n",
    "# plt.grid()\n",
    "# plt.title(\"Cross Validation Error for each alpha\")\n",
    "# plt.xlabel(\"Alpha i's\")\n",
    "# plt.ylabel(\"Error measure\")\n",
    "# plt.show()\n",
    "\n",
    "\n",
    "# best_alpha = np.argmin(cv_log_error_array)\n",
    "# clf = KNeighborsClassifier(n_neighbors=alpha[best_alpha])\n",
    "# clf.fit(train_x_responseCoding, train_y)\n",
    "# sig_clf = CalibratedClassifierCV(clf, method=\"sigmoid\")\n",
    "# sig_clf.fit(train_x_responseCoding, train_y)\n",
    "\n",
    "# predict_y = sig_clf.predict_proba(train_x_responseCoding)\n",
    "# knn_tr_loss = log_loss(y_train, predict_y, labels=clf.classes_, eps=1e-15)\n",
    "# print('For values of best alpha = ', alpha[best_alpha], \"The train log loss is:\",knn_tr_loss)\n",
    "# predict_y = sig_clf.predict_proba(cv_x_responseCoding)\n",
    "# knn_cv_loss = log_loss(y_cv, predict_y, labels=clf.classes_, eps=1e-15)\n",
    "# print('For values of best alpha = ', alpha[best_alpha], \"The cross validation log loss is:\",knn_cv_loss)\n",
    "# predict_y = sig_clf.predict_proba(test_x_responseCoding)\n",
    "# knn_te_loss = log_loss(y_test, predict_y, labels=clf.classes_, eps=1e-15)\n",
    "# print('For values of best alpha = ', alpha[best_alpha], \"The test log loss is:\",knn_te_loss)\n",
    "\n",
    "# #For Summary\n",
    "# Model_name.append(\"KNN-RC\")\n",
    "# train_losses_list.append(knn_tr_loss)\n",
    "# cv_losses_list.append(knn_cv_loss)\n",
    "# test_losses_list.append(knn_te_loss)"
   ]
  },
  {
   "cell_type": "code",
   "execution_count": 26,
   "metadata": {},
   "outputs": [],
   "source": [
    "# clf = KNeighborsClassifier(n_neighbors=alpha[best_alpha])\n",
    "# missclassified_p = predict_and_plot_confusion_matrix(train_x_responseCoding, train_y, cv_x_responseCoding, cv_y, clf)\n",
    "# misclassified_percentage.append(missclassified_p*100)\n"
   ]
  },
  {
   "cell_type": "markdown",
   "metadata": {
    "id": "hs4v7Fc1OQzj"
   },
   "source": [
    "<h3><font color='#235DA3'>Logistic Regression (with one hot encoding)</font></h3>"
   ]
  },
  {
   "cell_type": "markdown",
   "metadata": {
    "id": "_OsvP1C6OQzk"
   },
   "source": [
    "<h4><font color='#82ADCB'>Hyper parameter tuning</font></h4>"
   ]
  },
  {
   "cell_type": "code",
   "execution_count": 27,
   "metadata": {
    "id": "6gknPIAJOQzl",
    "outputId": "4855f394-79f4-4089-e43c-c5de2c03df1f"
   },
   "outputs": [
    {
     "name": "stdout",
     "output_type": "stream",
     "text": [
      "for alpha = 1e-06\n",
      "Log Loss : 0.6098588156671446\n",
      "for alpha = 1e-05\n",
      "Log Loss : 0.6135883754036204\n",
      "for alpha = 0.0001\n",
      "Log Loss : 0.6152522683112815\n",
      "for alpha = 0.001\n",
      "Log Loss : 0.6155117998592976\n",
      "for alpha = 0.01\n",
      "Log Loss : 0.6225043651616758\n",
      "for alpha = 0.1\n",
      "Log Loss : 0.7889856205631199\n",
      "for alpha = 1\n",
      "Log Loss : 0.8541184951659371\n",
      "for alpha = 10\n",
      "Log Loss : 0.8632676813438007\n",
      "for alpha = 100\n",
      "Log Loss : 0.8648067027938916\n"
     ]
    },
    {
     "data": {
      "image/png": "[encoded data removed]",
      "text/plain": [
       "<Figure size 432x288 with 1 Axes>"
      ]
     },
     "metadata": {
      "needs_background": "light"
     },
     "output_type": "display_data"
    },
    {
     "name": "stdout",
     "output_type": "stream",
     "text": [
      "For values of best alpha =  1e-06 The train log loss is: 0.5523301091132249\n",
      "For values of best alpha =  1e-06 The cross validation log loss is: 0.6098588156671446\n",
      "For values of best alpha =  1e-06 The test log loss is: 0.5900728655074022\n"
     ]
    }
   ],
   "source": [
    "alpha = [10 ** x for x in range(-6, 3)]\n",
    "cv_log_error_array = []\n",
    "for i in alpha:\n",
    "    print(\"for alpha =\", i)\n",
    "    clf = SGDClassifier(alpha=i, penalty='l2', loss='log', random_state=42)\n",
    "    clf.fit(train_x_onehotCoding, train_y)\n",
    "    sig_clf = CalibratedClassifierCV(clf, method=\"sigmoid\")\n",
    "    sig_clf.fit(train_x_onehotCoding, train_y)\n",
    "    sig_clf_probs = sig_clf.predict_proba(cv_x_onehotCoding)\n",
    "    cv_log_error_array.append(log_loss(cv_y, sig_clf_probs, labels=clf.classes_, eps=1e-15))\n",
    "    # to avoid rounding error while multiplying probabilites we use log-probability estimates\n",
    "    print(\"Log Loss :\",log_loss(cv_y, sig_clf_probs)) \n",
    "\n",
    "fig, ax = plt.subplots()\n",
    "ax.plot(alpha, cv_log_error_array,c='g')\n",
    "for i, txt in enumerate(np.round(cv_log_error_array,3)):\n",
    "    ax.annotate((alpha[i],str(txt)), (alpha[i],cv_log_error_array[i]))\n",
    "plt.grid()\n",
    "plt.title(\"Cross Validation Error for each alpha\")\n",
    "plt.xlabel(\"Alpha i's\")\n",
    "plt.ylabel(\"Error measure\")\n",
    "plt.show()\n",
    "\n",
    "\n",
    "best_alpha = np.argmin(cv_log_error_array)\n",
    "clf = SGDClassifier(alpha=alpha[best_alpha], penalty='l2', loss='log', random_state=42)\n",
    "clf.fit(train_x_onehotCoding, train_y)\n",
    "sig_clf = CalibratedClassifierCV(clf, method=\"sigmoid\")\n",
    "sig_clf.fit(train_x_onehotCoding, train_y)\n",
    "\n",
    "predict_y = sig_clf.predict_proba(train_x_onehotCoding)\n",
    "LR_tr = log_loss(y_train, predict_y, labels=clf.classes_, eps=1e-15)\n",
    "print('For values of best alpha = ', alpha[best_alpha], \"The train log loss is:\", LR_tr)\n",
    "predict_y = sig_clf.predict_proba(cv_x_onehotCoding)\n",
    "LR_cv = log_loss(y_cv, predict_y, labels=clf.classes_, eps=1e-15)\n",
    "print('For values of best alpha = ', alpha[best_alpha], \"The cross validation log loss is:\", LR_cv)\n",
    "predict_y = sig_clf.predict_proba(test_x_onehotCoding)\n",
    "LR_test = log_loss(y_test, predict_y, labels=clf.classes_, eps=1e-15)\n",
    "print('For values of best alpha = ', alpha[best_alpha], \"The test log loss is:\", LR_test)\n",
    "\n",
    "#For Summary\n",
    "Model_name.append(\"Logistic Regresion-OHE\")\n",
    "train_losses_list.append(LR_tr)\n",
    "cv_losses_list.append(LR_cv)\n",
    "test_losses_list.append(LR_test)"
   ]
  },
  {
   "cell_type": "markdown",
   "metadata": {
    "id": "d6sk6Z7NOQzp"
   },
   "source": [
    "<h4><font color='#82ADCB'>Testing the model with best hyper paramters</font></h4>"
   ]
  },
  {
   "cell_type": "code",
   "execution_count": 28,
   "metadata": {
    "id": "HEeyfXMIOQzp",
    "outputId": "34f85ffd-4d08-4e0a-8ac0-b8608a938bbe",
    "scrolled": false
   },
   "outputs": [
    {
     "name": "stdout",
     "output_type": "stream",
     "text": [
      "Log loss : 0.6098588156671446\n",
      "Number of mis-classified points : 0.2824809844783872\n"
     ]
    }
   ],
   "source": [
    "clf = SGDClassifier(alpha=alpha[best_alpha], penalty='l2', loss='log', random_state=42)\n",
    "missclassified_p = predict_and_plot_confusion_matrix(train_x_onehotCoding, train_y, cv_x_onehotCoding, cv_y, clf)\n",
    "misclassified_percentage.append(missclassified_p*100)"
   ]
  },
  {
   "cell_type": "markdown",
   "metadata": {},
   "source": [
    "<h3><font color='#235DA3'>Logistic Regression (with response coding)</font></h3>"
   ]
  },
  {
   "cell_type": "markdown",
   "metadata": {
    "id": "_OsvP1C6OQzk"
   },
   "source": [
    "<h4><font color='#82ADCB'>Hyper parameter tuning</font></h4>"
   ]
  },
  {
   "cell_type": "code",
   "execution_count": 29,
   "metadata": {
    "id": "6gknPIAJOQzl",
    "outputId": "4855f394-79f4-4089-e43c-c5de2c03df1f"
   },
   "outputs": [
    {
     "name": "stdout",
     "output_type": "stream",
     "text": [
      "for alpha = 1e-06\n",
      "Log Loss : 0.7782605857061878\n",
      "for alpha = 1e-05\n",
      "Log Loss : 0.7786553004007315\n",
      "for alpha = 0.0001\n",
      "Log Loss : 0.7787642721615089\n",
      "for alpha = 0.001\n",
      "Log Loss : 0.7787450936301684\n",
      "for alpha = 0.01\n",
      "Log Loss : 0.7787512756263699\n",
      "for alpha = 0.1\n",
      "Log Loss : 0.7787756909811796\n",
      "for alpha = 1\n",
      "Log Loss : 0.7766339142829835\n",
      "for alpha = 10\n",
      "Log Loss : 0.7780582117352544\n",
      "for alpha = 100\n",
      "Log Loss : 0.778092813338399\n"
     ]
    },
    {
     "data": {
      "image/png": "[encoded data removed]",
      "text/plain": [
       "<Figure size 432x288 with 1 Axes>"
      ]
     },
     "metadata": {
      "needs_background": "light"
     },
     "output_type": "display_data"
    },
    {
     "name": "stdout",
     "output_type": "stream",
     "text": [
      "For values of best alpha =  1 The train log loss is: 0.6267508024831917\n",
      "For values of best alpha =  1 The cross validation log loss is: 0.7766339142829835\n",
      "For values of best alpha =  1 The test log loss is: 0.7228018328662179\n"
     ]
    }
   ],
   "source": [
    "alpha = [10 ** x for x in range(-6, 3)]\n",
    "cv_log_error_array = []\n",
    "for i in alpha:\n",
    "    print(\"for alpha =\", i)\n",
    "    clf = SGDClassifier(alpha=i, penalty='l2', loss='log', random_state=42)\n",
    "    clf.fit(train_x_responseCoding, train_y)\n",
    "    sig_clf = CalibratedClassifierCV(clf, method=\"sigmoid\")\n",
    "    sig_clf.fit(train_x_responseCoding, train_y)\n",
    "    sig_clf_probs = sig_clf.predict_proba(cv_x_responseCoding)\n",
    "    cv_log_error_array.append(log_loss(cv_y, sig_clf_probs, labels=clf.classes_, eps=1e-15))\n",
    "    # to avoid rounding error while multiplying probabilites we use log-probability estimates\n",
    "    print(\"Log Loss :\",log_loss(cv_y, sig_clf_probs)) \n",
    "\n",
    "fig, ax = plt.subplots()\n",
    "ax.plot(alpha, cv_log_error_array,c='g')\n",
    "for i, txt in enumerate(np.round(cv_log_error_array,3)):\n",
    "    ax.annotate((alpha[i],str(txt)), (alpha[i],cv_log_error_array[i]))\n",
    "plt.grid()\n",
    "plt.title(\"Cross Validation Error for each alpha\")\n",
    "plt.xlabel(\"Alpha i's\")\n",
    "plt.ylabel(\"Error measure\")\n",
    "plt.show()\n",
    "\n",
    "\n",
    "best_alpha = np.argmin(cv_log_error_array)\n",
    "clf = SGDClassifier(alpha=alpha[best_alpha], penalty='l2', loss='log', random_state=42)\n",
    "clf.fit(train_x_responseCoding, train_y)\n",
    "sig_clf = CalibratedClassifierCV(clf, method=\"sigmoid\")\n",
    "sig_clf.fit(train_x_responseCoding, train_y)\n",
    "\n",
    "predict_y = sig_clf.predict_proba(train_x_responseCoding)\n",
    "LR_tr = log_loss(y_train, predict_y, labels=clf.classes_, eps=1e-15)\n",
    "print('For values of best alpha = ', alpha[best_alpha], \"The train log loss is:\", LR_tr)\n",
    "predict_y = sig_clf.predict_proba(cv_x_responseCoding)\n",
    "LR_cv = log_loss(y_cv, predict_y, labels=clf.classes_, eps=1e-15)\n",
    "print('For values of best alpha = ', alpha[best_alpha], \"The cross validation log loss is:\", LR_cv)\n",
    "predict_y = sig_clf.predict_proba(test_x_responseCoding)\n",
    "LR_test = log_loss(y_test, predict_y, labels=clf.classes_, eps=1e-15)\n",
    "print('For values of best alpha = ', alpha[best_alpha], \"The test log loss is:\", LR_test)\n",
    "\n",
    "#For Summary\n",
    "Model_name.append(\"Logistic Regresion-RC\")\n",
    "train_losses_list.append(LR_tr)\n",
    "cv_losses_list.append(LR_cv)\n",
    "test_losses_list.append(LR_test)"
   ]
  },
  {
   "cell_type": "markdown",
   "metadata": {
    "id": "d6sk6Z7NOQzp"
   },
   "source": [
    "<h4><font color='#82ADCB'>Testing the model with best hyper paramters</font></h4>"
   ]
  },
  {
   "cell_type": "code",
   "execution_count": 30,
   "metadata": {
    "id": "HEeyfXMIOQzp",
    "outputId": "34f85ffd-4d08-4e0a-8ac0-b8608a938bbe",
    "scrolled": false
   },
   "outputs": [
    {
     "name": "stdout",
     "output_type": "stream",
     "text": [
      "Log loss : 0.7766339142829835\n",
      "Number of mis-classified points : 0.3692103147609919\n"
     ]
    }
   ],
   "source": [
    "clf = SGDClassifier(alpha=alpha[best_alpha], penalty='l2', loss='log', random_state=42)\n",
    "missclassified_p = predict_and_plot_confusion_matrix(train_x_responseCoding, train_y, cv_x_responseCoding, cv_y, clf)\n",
    "misclassified_percentage.append(missclassified_p*100)"
   ]
  },
  {
   "cell_type": "markdown",
   "metadata": {
    "id": "CEnJCfulOQz8"
   },
   "source": [
    "<h3><font color='#235DA3'>Linear Support Vector Machines (with one hot encoding)</font></h3>"
   ]
  },
  {
   "cell_type": "markdown",
   "metadata": {
    "id": "nQfL7DVoOQz8"
   },
   "source": [
    "<h4><font color='#82ADCB'>Hyper parameter tuning</font></h4>"
   ]
  },
  {
   "cell_type": "code",
   "execution_count": 31,
   "metadata": {
    "id": "eH-oXVB3OQz9",
    "outputId": "28792e9b-acd3-458c-a36e-fddc68cc6fb9"
   },
   "outputs": [
    {
     "name": "stdout",
     "output_type": "stream",
     "text": [
      "for C = 1e-05\n",
      "Log Loss : 0.619660340003693\n",
      "for C = 0.0001\n",
      "Log Loss : 0.6213390769135301\n",
      "for C = 0.001\n",
      "Log Loss : 0.6213357885430141\n",
      "for C = 0.01\n",
      "Log Loss : 0.6213651035178738\n",
      "for C = 0.1\n",
      "Log Loss : 0.8657041257544009\n",
      "for C = 1\n",
      "Log Loss : 0.8657041262516466\n",
      "for C = 10\n",
      "Log Loss : 0.8657041210001691\n",
      "for C = 100\n",
      "Log Loss : 0.865704122155681\n"
     ]
    },
    {
     "data": {
      "image/png": "[encoded data removed]",
      "text/plain": [
       "<Figure size 432x288 with 1 Axes>"
      ]
     },
     "metadata": {
      "needs_background": "light"
     },
     "output_type": "display_data"
    },
    {
     "name": "stdout",
     "output_type": "stream",
     "text": [
      "For values of best alpha =  1e-05 The train log loss is: 0.5866229754715498\n",
      "For values of best alpha =  1e-05 The cross validation log loss is: 0.619660340003693\n",
      "For values of best alpha =  1e-05 The test log loss is: 0.6070930846761455\n"
     ]
    }
   ],
   "source": [
    "alpha = [10 ** x for x in range(-5, 3)]\n",
    "cv_log_error_array = []\n",
    "for i in alpha:\n",
    "    print(\"for C =\", i)\n",
    "#     clf = SVC(C=i,kernel='linear',probability=True, class_weight='balanced')\n",
    "    clf = SGDClassifier(alpha=i, penalty='l2', loss='hinge', random_state=42)\n",
    "    clf.fit(train_x_onehotCoding, train_y)\n",
    "    sig_clf = CalibratedClassifierCV(clf, method=\"sigmoid\")\n",
    "    sig_clf.fit(train_x_onehotCoding, train_y)\n",
    "    sig_clf_probs = sig_clf.predict_proba(cv_x_onehotCoding)\n",
    "    cv_log_error_array.append(log_loss(cv_y, sig_clf_probs, labels=clf.classes_, eps=1e-15))\n",
    "    print(\"Log Loss :\",log_loss(cv_y, sig_clf_probs)) \n",
    "\n",
    "fig, ax = plt.subplots()\n",
    "ax.plot(alpha, cv_log_error_array,c='g')\n",
    "for i, txt in enumerate(np.round(cv_log_error_array,3)):\n",
    "    ax.annotate((alpha[i],str(txt)), (alpha[i],cv_log_error_array[i]))\n",
    "plt.grid()\n",
    "plt.title(\"Cross Validation Error for each alpha\")\n",
    "plt.xlabel(\"Alpha i's\")\n",
    "plt.ylabel(\"Error measure\")\n",
    "plt.show()\n",
    "\n",
    "\n",
    "best_alpha = np.argmin(cv_log_error_array)\n",
    "# clf = SVC(C=i,kernel='linear',probability=True, class_weight='balanced')\n",
    "clf = SGDClassifier(alpha=alpha[best_alpha], penalty='l2', loss='hinge', random_state=42)\n",
    "clf.fit(train_x_onehotCoding, train_y)\n",
    "sig_clf = CalibratedClassifierCV(clf, method=\"sigmoid\")\n",
    "sig_clf.fit(train_x_onehotCoding, train_y)\n",
    "\n",
    "predict_y = sig_clf.predict_proba(train_x_onehotCoding)\n",
    "SVM_tr = log_loss(y_train, predict_y, labels=clf.classes_, eps=1e-15)\n",
    "print('For values of best alpha = ', alpha[best_alpha], \"The train log loss is:\",SVM_tr)\n",
    "predict_y = sig_clf.predict_proba(cv_x_onehotCoding)\n",
    "SVM_cv = log_loss(y_cv, predict_y, labels=clf.classes_, eps=1e-15)\n",
    "print('For values of best alpha = ', alpha[best_alpha], \"The cross validation log loss is:\",SVM_cv)\n",
    "predict_y = sig_clf.predict_proba(test_x_onehotCoding)\n",
    "SVM_te = log_loss(y_test, predict_y, labels=clf.classes_, eps=1e-15)\n",
    "print('For values of best alpha = ', alpha[best_alpha], \"The test log loss is:\", SVM_te)\n",
    "#For Summary\n",
    "Model_name.append(\"SVM-OHE\")\n",
    "train_losses_list.append(SVM_tr)\n",
    "cv_losses_list.append(SVM_cv)\n",
    "test_losses_list.append(SVM_te)"
   ]
  },
  {
   "cell_type": "markdown",
   "metadata": {
    "id": "xrPFI2mIOQz-"
   },
   "source": [
    "<h4><font color='#82ADCB'>Testing model with best hyper parameters</font></h4>"
   ]
  },
  {
   "cell_type": "code",
   "execution_count": 32,
   "metadata": {
    "id": "aE_tZXkQOQz_",
    "outputId": "3a026f35-c766-4159-a8f7-af27652a740e"
   },
   "outputs": [
    {
     "name": "stdout",
     "output_type": "stream",
     "text": [
      "Log loss : 0.619660340003693\n",
      "Number of mis-classified points : 0.29772432131593596\n"
     ]
    }
   ],
   "source": [
    "clf = SGDClassifier(alpha=alpha[best_alpha], penalty='l2', loss='hinge', random_state=42)\n",
    "missclassified_p = predict_and_plot_confusion_matrix(train_x_onehotCoding, train_y,cv_x_onehotCoding,cv_y, clf)\n",
    "misclassified_percentage.append(missclassified_p*100)"
   ]
  },
  {
   "cell_type": "markdown",
   "metadata": {
    "id": "CEnJCfulOQz8"
   },
   "source": [
    "<h3><font color='#235DA3'>Linear Support Vector Machines (with response)</font></h3>"
   ]
  },
  {
   "cell_type": "markdown",
   "metadata": {
    "id": "nQfL7DVoOQz8"
   },
   "source": [
    "<h4><font color='#82ADCB'>Hyper parameter tuning</font></h4>"
   ]
  },
  {
   "cell_type": "code",
   "execution_count": 33,
   "metadata": {
    "id": "eH-oXVB3OQz9",
    "outputId": "28792e9b-acd3-458c-a36e-fddc68cc6fb9"
   },
   "outputs": [
    {
     "name": "stdout",
     "output_type": "stream",
     "text": [
      "for C = 1e-05\n",
      "Log Loss : 0.7784494385649663\n",
      "for C = 0.0001\n",
      "Log Loss : 0.7785791639454424\n",
      "for C = 0.001\n",
      "Log Loss : 0.7787085744038585\n",
      "for C = 0.01\n",
      "Log Loss : 0.7787162508222436\n",
      "for C = 0.1\n",
      "Log Loss : 0.7786595393603495\n",
      "for C = 1\n",
      "Log Loss : 0.7064294079746071\n",
      "for C = 10\n",
      "Log Loss : 0.7781002503951344\n",
      "for C = 100\n",
      "Log Loss : 0.7781020055913382\n"
     ]
    },
    {
     "data": {
      "image/png": "[encoded data removed]",
      "text/plain": [
       "<Figure size 432x288 with 1 Axes>"
      ]
     },
     "metadata": {
      "needs_background": "light"
     },
     "output_type": "display_data"
    },
    {
     "name": "stdout",
     "output_type": "stream",
     "text": [
      "For values of best alpha =  1 The train log loss is: 0.6337500330905343\n",
      "For values of best alpha =  1 The cross validation log loss is: 0.7064294079746071\n",
      "For values of best alpha =  1 The test log loss is: 0.6820178434671406\n"
     ]
    }
   ],
   "source": [
    "alpha = [10 ** x for x in range(-5, 3)]\n",
    "cv_log_error_array = []\n",
    "for i in alpha:\n",
    "    print(\"for C =\", i)\n",
    "#     clf = SVC(C=i,kernel='linear',probability=True, class_weight='balanced')\n",
    "    clf = SGDClassifier(alpha=i, penalty='l2', loss='hinge', random_state=42)\n",
    "    clf.fit(train_x_responseCoding, train_y)\n",
    "    sig_clf = CalibratedClassifierCV(clf, method=\"sigmoid\")\n",
    "    sig_clf.fit(train_x_responseCoding, train_y)\n",
    "    sig_clf_probs = sig_clf.predict_proba(cv_x_responseCoding)\n",
    "    cv_log_error_array.append(log_loss(cv_y, sig_clf_probs, labels=clf.classes_, eps=1e-15))\n",
    "    print(\"Log Loss :\",log_loss(cv_y, sig_clf_probs)) \n",
    "\n",
    "fig, ax = plt.subplots()\n",
    "ax.plot(alpha, cv_log_error_array,c='g')\n",
    "for i, txt in enumerate(np.round(cv_log_error_array,3)):\n",
    "    ax.annotate((alpha[i],str(txt)), (alpha[i],cv_log_error_array[i]))\n",
    "plt.grid()\n",
    "plt.title(\"Cross Validation Error for each alpha\")\n",
    "plt.xlabel(\"Alpha i's\")\n",
    "plt.ylabel(\"Error measure\")\n",
    "plt.show()\n",
    "\n",
    "\n",
    "best_alpha = np.argmin(cv_log_error_array)\n",
    "# clf = SVC(C=i,kernel='linear',probability=True, class_weight='balanced')\n",
    "clf = SGDClassifier(alpha=alpha[best_alpha], penalty='l2', loss='hinge', random_state=42)\n",
    "clf.fit(train_x_responseCoding, train_y)\n",
    "sig_clf = CalibratedClassifierCV(clf, method=\"sigmoid\")\n",
    "sig_clf.fit(train_x_responseCoding, train_y)\n",
    "\n",
    "predict_y = sig_clf.predict_proba(train_x_responseCoding)\n",
    "SVM_tr = log_loss(y_train, predict_y, labels=clf.classes_, eps=1e-15)\n",
    "print('For values of best alpha = ', alpha[best_alpha], \"The train log loss is:\",SVM_tr)\n",
    "predict_y = sig_clf.predict_proba(cv_x_responseCoding)\n",
    "SVM_cv = log_loss(y_cv, predict_y, labels=clf.classes_, eps=1e-15)\n",
    "print('For values of best alpha = ', alpha[best_alpha], \"The cross validation log loss is:\",SVM_cv)\n",
    "predict_y = sig_clf.predict_proba(test_x_responseCoding)\n",
    "SVM_te = log_loss(y_test, predict_y, labels=clf.classes_, eps=1e-15)\n",
    "print('For values of best alpha = ', alpha[best_alpha], \"The test log loss is:\", SVM_te)\n",
    "#For Summary\n",
    "Model_name.append(\"Linear SVM-RC\")\n",
    "train_losses_list.append(SVM_tr)\n",
    "cv_losses_list.append(SVM_cv)\n",
    "test_losses_list.append(SVM_te)"
   ]
  },
  {
   "cell_type": "markdown",
   "metadata": {
    "id": "xrPFI2mIOQz-"
   },
   "source": [
    "<h4><font color='#82ADCB'>Testing model with best hyper parameters</font></h4>"
   ]
  },
  {
   "cell_type": "code",
   "execution_count": 34,
   "metadata": {
    "id": "aE_tZXkQOQz_",
    "outputId": "3a026f35-c766-4159-a8f7-af27652a740e"
   },
   "outputs": [
    {
     "name": "stdout",
     "output_type": "stream",
     "text": [
      "Log loss : 0.7064294079746071\n",
      "Number of mis-classified points : 0.3692103147609919\n"
     ]
    }
   ],
   "source": [
    "clf = SGDClassifier(alpha=alpha[best_alpha], penalty='l2', loss='hinge', random_state=42)\n",
    "missclassified_p = predict_and_plot_confusion_matrix(train_x_responseCoding, train_y,cv_x_responseCoding,cv_y, clf)\n",
    "misclassified_percentage.append(missclassified_p*100)"
   ]
  },
  {
   "cell_type": "markdown",
   "metadata": {
    "id": "Qo8UpfnJOQ0G"
   },
   "source": [
    "<h3><font color='#235DA3'>Random Forest Classifier(With One hot Encoding)</font></h3>"
   ]
  },
  {
   "cell_type": "markdown",
   "metadata": {
    "id": "vQ9sdCvQOQ0H"
   },
   "source": [
    "<h4><font color='#82ADCB'>Hyper parameter tuning</font></h4>"
   ]
  },
  {
   "cell_type": "code",
   "execution_count": 35,
   "metadata": {
    "id": "LNV3DyqiOQ0H",
    "outputId": "a9d6a39c-e16f-4330-ceec-850b854a3438"
   },
   "outputs": [],
   "source": [
    "# alpha = [100,200,500,1000,2000]\n",
    "# max_depth = [5, 10]\n",
    "# cv_log_error_array = []\n",
    "# for i in alpha:\n",
    "#     for j in max_depth:\n",
    "#         print(\"for n_estimators =\", i,\"and max depth = \", j)\n",
    "#         clf = RandomForestClassifier(n_estimators=i, criterion='gini', max_depth=j, random_state=42, n_jobs=-1)\n",
    "#         clf.fit(train_x_onehotCoding, train_y)\n",
    "#         sig_clf = CalibratedClassifierCV(clf, method=\"sigmoid\")\n",
    "#         sig_clf.fit(train_x_onehotCoding, train_y)\n",
    "#         sig_clf_probs = sig_clf.predict_proba(cv_x_onehotCoding)\n",
    "#         cv_log_error_array.append(log_loss(cv_y, sig_clf_probs, labels=clf.classes_, eps=1e-15))\n",
    "#         print(\"Log Loss :\",log_loss(cv_y, sig_clf_probs)) \n",
    "\n",
    "# best_alpha = np.argmin(cv_log_error_array)\n",
    "# clf = RandomForestClassifier(n_estimators=alpha[int(best_alpha/2)], criterion='gini', max_depth=max_depth[int(best_alpha%2)], random_state=42, n_jobs=-1)\n",
    "# clf.fit(train_x_onehotCoding, train_y)\n",
    "# sig_clf = CalibratedClassifierCV(clf, method=\"sigmoid\")\n",
    "# sig_clf.fit(train_x_onehotCoding, train_y)\n",
    "\n",
    "# predict_y = sig_clf.predict_proba(train_x_onehotCoding)\n",
    "# RF_tr = log_loss(y_train, predict_y, labels=clf.classes_, eps=1e-15)\n",
    "# print('For values of best estimator = ', alpha[int(best_alpha/2)], \"The train log loss is:\",RF_tr)\n",
    "# predict_y = sig_clf.predict_proba(cv_x_onehotCoding)\n",
    "# RF_cv = log_loss(y_cv, predict_y, labels=clf.classes_, eps=1e-15)\n",
    "# print('For values of best estimator = ', alpha[int(best_alpha/2)], \"The cross validation log loss is:\",RF_cv)\n",
    "# predict_y = sig_clf.predict_proba(test_x_onehotCoding)\n",
    "# RF_te = log_loss(y_test, predict_y, labels=clf.classes_, eps=1e-15)\n",
    "# print('For values of best estimator = ', alpha[int(best_alpha/2)], \"The test log loss is:\",RF_te)\n",
    "\n",
    "# #For Summary\n",
    "# Model_name.append(\"Randpm Forest-OHE\")\n",
    "# train_losses_list.append(RF_tr)\n",
    "# cv_losses_list.append(RF_cv)\n",
    "# test_losses_list.append(RF_te)"
   ]
  },
  {
   "cell_type": "markdown",
   "metadata": {
    "id": "EsQtPEFoOQ0K"
   },
   "source": [
    "<h4><font color='#82ADCB'>Testing model with best hyper parameters (One Hot Encoding)</font></h4>"
   ]
  },
  {
   "cell_type": "code",
   "execution_count": 36,
   "metadata": {
    "id": "qubuQ89sOQ0L",
    "outputId": "4fd307d7-2ccd-4947-e4a9-8de4516930c2"
   },
   "outputs": [],
   "source": [
    "# clf = RandomForestClassifier(n_estimators=alpha[int(best_alpha/2)], criterion='gini', max_depth=max_depth[int(best_alpha%2)], random_state=42, n_jobs=-1)\n",
    "# missclassified_p = predict_and_plot_confusion_matrix(train_x_onehotCoding, train_y,cv_x_onehotCoding,cv_y, clf)\n",
    "# misclassified_percentage.append(missclassified_p*100)"
   ]
  },
  {
   "cell_type": "markdown",
   "metadata": {
    "id": "Qo8UpfnJOQ0G"
   },
   "source": [
    "<h3><font color='#235DA3'>Random Forest Classifier(With response coding)</font></h3>"
   ]
  },
  {
   "cell_type": "markdown",
   "metadata": {
    "id": "vQ9sdCvQOQ0H"
   },
   "source": [
    "<h4><font color='#82ADCB'>Hyper parameter tuning</font></h4>"
   ]
  },
  {
   "cell_type": "code",
   "execution_count": 37,
   "metadata": {
    "id": "LNV3DyqiOQ0H",
    "outputId": "a9d6a39c-e16f-4330-ceec-850b854a3438"
   },
   "outputs": [],
   "source": [
    "# max_depth = [5, 10]\n",
    "# cv_log_error_array = []\n",
    "\n",
    "# for j in max_depth:\n",
    "#     print(\"for n_estimators =\", i,\"and max depth = \", j)\n",
    "#     clf = RandomForestClassifier(n_estimators=600, criterion='gini', max_depth=j, random_state=42, n_jobs=-1)\n",
    "#     clf.fit(train_x_responseCoding, train_y)\n",
    "#     sig_clf = CalibratedClassifierCV(clf, method=\"sigmoid\")\n",
    "#     sig_clf.fit(train_x_responseCoding, train_y)\n",
    "#     sig_clf_probs = sig_clf.predict_proba(cv_x_responseCoding)\n",
    "#     cv_log_error_array.append(log_loss(cv_y, sig_clf_probs, labels=clf.classes_, eps=1e-15))\n",
    "#     print(\"Log Loss :\",log_loss(cv_y, sig_clf_probs)) \n",
    "\n",
    "# best_alpha = np.argmin(cv_log_error_array)\n",
    "# clf = RandomForestClassifier(n_estimators=600, criterion='gini', max_depth=max_depth[best_alpha], random_state=42, n_jobs=-1)\n",
    "# clf.fit(train_x_responseCoding, train_y)\n",
    "# sig_clf = CalibratedClassifierCV(clf, method=\"sigmoid\")\n",
    "# sig_clf.fit(train_x_responseCoding, train_y)\n",
    "\n",
    "# predict_y = sig_clf.predict_proba(train_x_responseCoding)\n",
    "# RF_tr = log_loss(y_train, predict_y, labels=clf.classes_, eps=1e-15)\n",
    "# print('For values of best estimator = ', alpha[int(best_alpha/2)], \"The train log loss is:\",RF_tr)\n",
    "# predict_y = sig_clf.predict_proba(cv_x_responseCoding)\n",
    "# RF_cv = log_loss(y_cv, predict_y, labels=clf.classes_, eps=1e-15)\n",
    "# print('For values of best estimator = ', alpha[int(best_alpha/2)], \"The cross validation log loss is:\",RF_cv)\n",
    "# predict_y = sig_clf.predict_proba(test_x_responseCoding)\n",
    "# RF_te = log_loss(y_test, predict_y, labels=clf.classes_, eps=1e-15)\n",
    "# print('For values of best estimator = ', alpha[int(best_alpha/2)], \"The test log loss is:\",RF_te)\n",
    "\n",
    "# #For Summary\n",
    "# Model_name.append(\"Randpm Forest-RC\")\n",
    "# train_losses_list.append(RF_tr)\n",
    "# cv_losses_list.append(RF_cv)\n",
    "# test_losses_list.append(RF_te)"
   ]
  },
  {
   "cell_type": "markdown",
   "metadata": {
    "id": "EsQtPEFoOQ0K"
   },
   "source": [
    "<h4><font color='#82ADCB'>Testing model with best hyper parameters (One Hot Encoding)</font></h4>"
   ]
  },
  {
   "cell_type": "code",
   "execution_count": 38,
   "metadata": {
    "id": "qubuQ89sOQ0L",
    "outputId": "4fd307d7-2ccd-4947-e4a9-8de4516930c2"
   },
   "outputs": [],
   "source": [
    "# clf = RandomForestClassifier(n_estimators=600, criterion='gini', max_depth=max_depth[best_alpha], random_state=42, n_jobs=-1)\n",
    "# missclassified_p = predict_and_plot_confusion_matrix(train_x_responseCoding, train_y,cv_x_responseCoding,cv_y, clf, 1)\n",
    "# misclassified_percentage.append(missclassified_p*100)"
   ]
  },
  {
   "cell_type": "markdown",
   "metadata": {},
   "source": [
    "# With class balancing"
   ]
  },
  {
   "cell_type": "markdown",
   "metadata": {
    "id": "hs4v7Fc1OQzj"
   },
   "source": [
    "<h3><font color='#235DA3'>Logistic Regression (with one hot encoding)</font></h3>"
   ]
  },
  {
   "cell_type": "code",
   "execution_count": 39,
   "metadata": {},
   "outputs": [],
   "source": [
    "from sklearn.linear_model import SGDClassifier"
   ]
  },
  {
   "cell_type": "markdown",
   "metadata": {
    "id": "_OsvP1C6OQzk"
   },
   "source": [
    "<h4><font color='#82ADCB'>Hyper parameter tuning</font></h4>"
   ]
  },
  {
   "cell_type": "code",
   "execution_count": 40,
   "metadata": {
    "id": "6gknPIAJOQzl",
    "outputId": "4855f394-79f4-4089-e43c-c5de2c03df1f"
   },
   "outputs": [
    {
     "name": "stdout",
     "output_type": "stream",
     "text": [
      "for alpha = 1e-06\n",
      "Log Loss : 0.6098577564779512\n",
      "for alpha = 1e-05\n",
      "Log Loss : 0.6133774830887594\n",
      "for alpha = 0.0001\n",
      "Log Loss : 0.6151690919435009\n",
      "for alpha = 0.001\n",
      "Log Loss : 0.6154972749189076\n",
      "for alpha = 0.01\n",
      "Log Loss : 0.6151998151907959\n",
      "for alpha = 0.1\n",
      "Log Loss : 0.6149872945576247\n",
      "for alpha = 1\n",
      "Log Loss : 0.6152298453644263\n",
      "for alpha = 10\n",
      "Log Loss : 0.6153900782935112\n",
      "for alpha = 100\n",
      "Log Loss : 0.6154627394740114\n"
     ]
    },
    {
     "data": {
      "image/png": "[encoded data removed]",
      "text/plain": [
       "<Figure size 432x288 with 1 Axes>"
      ]
     },
     "metadata": {
      "needs_background": "light"
     },
     "output_type": "display_data"
    },
    {
     "name": "stdout",
     "output_type": "stream",
     "text": [
      "For values of best alpha =  1e-06 The train log loss is: 0.5517381279767476\n",
      "For values of best alpha =  1e-06 The cross validation log loss is: 0.6098577564779512\n",
      "For values of best alpha =  1e-06 The test log loss is: 0.5899009406437078\n"
     ]
    }
   ],
   "source": [
    "alpha = [10 ** x for x in range(-6, 3)]\n",
    "cv_log_error_array = []\n",
    "for i in alpha:\n",
    "    print(\"for alpha =\", i)\n",
    "    clf = SGDClassifier(class_weight='balanced', alpha=i, penalty='l2', loss='log', random_state=42)\n",
    "    clf.fit(train_x_onehotCoding, train_y)\n",
    "    sig_clf = CalibratedClassifierCV(clf, method=\"sigmoid\")\n",
    "    sig_clf.fit(train_x_onehotCoding, train_y)\n",
    "    sig_clf_probs = sig_clf.predict_proba(cv_x_onehotCoding)\n",
    "    cv_log_error_array.append(log_loss(cv_y, sig_clf_probs, labels=clf.classes_, eps=1e-15))\n",
    "    # to avoid rounding error while multiplying probabilites we use log-probability estimates\n",
    "    print(\"Log Loss :\",log_loss(cv_y, sig_clf_probs)) \n",
    "\n",
    "fig, ax = plt.subplots()\n",
    "ax.plot(alpha, cv_log_error_array,c='g')\n",
    "for i, txt in enumerate(np.round(cv_log_error_array,3)):\n",
    "    ax.annotate((alpha[i],str(txt)), (alpha[i],cv_log_error_array[i]))\n",
    "plt.grid()\n",
    "plt.title(\"Cross Validation Error for each alpha\")\n",
    "plt.xlabel(\"Alpha i's\")\n",
    "plt.ylabel(\"Error measure\")\n",
    "plt.show()\n",
    "\n",
    "\n",
    "best_alpha = np.argmin(cv_log_error_array)\n",
    "clf = SGDClassifier(class_weight='balanced',alpha=alpha[best_alpha], penalty='l2', loss='log', random_state=42)\n",
    "clf.fit(train_x_onehotCoding, train_y)\n",
    "sig_clf = CalibratedClassifierCV(clf, method=\"sigmoid\")\n",
    "sig_clf.fit(train_x_onehotCoding, train_y)\n",
    "\n",
    "predict_y = sig_clf.predict_proba(train_x_onehotCoding)\n",
    "LR_tr = log_loss(y_train, predict_y, labels=clf.classes_, eps=1e-15)\n",
    "print('For values of best alpha = ', alpha[best_alpha], \"The train log loss is:\", LR_tr)\n",
    "predict_y = sig_clf.predict_proba(cv_x_onehotCoding)\n",
    "LR_cv = log_loss(y_cv, predict_y, labels=clf.classes_, eps=1e-15)\n",
    "print('For values of best alpha = ', alpha[best_alpha], \"The cross validation log loss is:\", LR_cv)\n",
    "predict_y = sig_clf.predict_proba(test_x_onehotCoding)\n",
    "LR_test = log_loss(y_test, predict_y, labels=clf.classes_, eps=1e-15)\n",
    "print('For values of best alpha = ', alpha[best_alpha], \"The test log loss is:\", LR_test)\n",
    "\n",
    "#For Summary\n",
    "Model_name.append(\"Logistic Regresion-OHE (with class_balancing)\")\n",
    "train_losses_list.append(LR_tr)\n",
    "cv_losses_list.append(LR_cv)\n",
    "test_losses_list.append(LR_test)"
   ]
  },
  {
   "cell_type": "markdown",
   "metadata": {
    "id": "d6sk6Z7NOQzp"
   },
   "source": [
    "<h4><font color='#82ADCB'>Testing the model with best hyper paramters</font></h4>"
   ]
  },
  {
   "cell_type": "code",
   "execution_count": 41,
   "metadata": {
    "id": "HEeyfXMIOQzp",
    "outputId": "34f85ffd-4d08-4e0a-8ac0-b8608a938bbe",
    "scrolled": false
   },
   "outputs": [
    {
     "name": "stdout",
     "output_type": "stream",
     "text": [
      "Log loss : 0.6098577564779512\n",
      "Number of mis-classified points : 0.2824655247047183\n"
     ]
    }
   ],
   "source": [
    "clf = SGDClassifier(class_weight='balanced',alpha=alpha[best_alpha], penalty='l2', loss='log', random_state=42)\n",
    "missclassified_p = predict_and_plot_confusion_matrix(train_x_onehotCoding, train_y, cv_x_onehotCoding, cv_y, clf)\n",
    "misclassified_percentage.append(missclassified_p*100)"
   ]
  },
  {
   "cell_type": "markdown",
   "metadata": {},
   "source": [
    "<h3><font color='#235DA3'>Logistic Regression (with response coding)</font></h3>"
   ]
  },
  {
   "cell_type": "markdown",
   "metadata": {
    "id": "_OsvP1C6OQzk"
   },
   "source": [
    "<h4><font color='#82ADCB'>Hyper parameter tuning</font></h4>"
   ]
  },
  {
   "cell_type": "code",
   "execution_count": 42,
   "metadata": {
    "id": "6gknPIAJOQzl",
    "outputId": "4855f394-79f4-4089-e43c-c5de2c03df1f"
   },
   "outputs": [
    {
     "name": "stdout",
     "output_type": "stream",
     "text": [
      "for alpha = 1e-06\n",
      "Log Loss : 0.7781516434912268\n",
      "for alpha = 1e-05\n",
      "Log Loss : 0.7785775776385476\n",
      "for alpha = 0.0001\n",
      "Log Loss : 0.778765122437281\n",
      "for alpha = 0.001\n",
      "Log Loss : 0.7787478115081315\n",
      "for alpha = 0.01\n",
      "Log Loss : 0.778753242222464\n",
      "for alpha = 0.1\n",
      "Log Loss : 0.778744350379555\n",
      "for alpha = 1\n",
      "Log Loss : 0.7783589879885852\n",
      "for alpha = 10\n",
      "Log Loss : 0.7781752533751767\n",
      "for alpha = 100\n",
      "Log Loss : 0.778192445694455\n"
     ]
    },
    {
     "data": {
      "image/png": "[encoded data removed]",
      "text/plain": [
       "<Figure size 432x288 with 1 Axes>"
      ]
     },
     "metadata": {
      "needs_background": "light"
     },
     "output_type": "display_data"
    },
    {
     "name": "stdout",
     "output_type": "stream",
     "text": [
      "For values of best alpha =  1e-06 The train log loss is: 0.6265455717176693\n",
      "For values of best alpha =  1e-06 The cross validation log loss is: 0.7781516434912268\n",
      "For values of best alpha =  1e-06 The test log loss is: 0.7238600492469337\n"
     ]
    }
   ],
   "source": [
    "alpha = [10 ** x for x in range(-6, 3)]\n",
    "cv_log_error_array = []\n",
    "for i in alpha:\n",
    "    print(\"for alpha =\", i)\n",
    "    clf = SGDClassifier(class_weight='balanced',alpha=i, penalty='l2', loss='log', random_state=42)\n",
    "    clf.fit(train_x_responseCoding, train_y)\n",
    "    sig_clf = CalibratedClassifierCV(clf, method=\"sigmoid\")\n",
    "    sig_clf.fit(train_x_responseCoding, train_y)\n",
    "    sig_clf_probs = sig_clf.predict_proba(cv_x_responseCoding)\n",
    "    cv_log_error_array.append(log_loss(cv_y, sig_clf_probs, labels=clf.classes_, eps=1e-15))\n",
    "    # to avoid rounding error while multiplying probabilites we use log-probability estimates\n",
    "    print(\"Log Loss :\",log_loss(cv_y, sig_clf_probs)) \n",
    "\n",
    "fig, ax = plt.subplots()\n",
    "ax.plot(alpha, cv_log_error_array,c='g')\n",
    "for i, txt in enumerate(np.round(cv_log_error_array,3)):\n",
    "    ax.annotate((alpha[i],str(txt)), (alpha[i],cv_log_error_array[i]))\n",
    "plt.grid()\n",
    "plt.title(\"Cross Validation Error for each alpha\")\n",
    "plt.xlabel(\"Alpha i's\")\n",
    "plt.ylabel(\"Error measure\")\n",
    "plt.show()\n",
    "\n",
    "\n",
    "best_alpha = np.argmin(cv_log_error_array)\n",
    "clf = SGDClassifier(class_weight='balanced',alpha=alpha[best_alpha], penalty='l2', loss='log', random_state=42)\n",
    "clf.fit(train_x_responseCoding, train_y)\n",
    "sig_clf = CalibratedClassifierCV(clf, method=\"sigmoid\")\n",
    "sig_clf.fit(train_x_responseCoding, train_y)\n",
    "\n",
    "predict_y = sig_clf.predict_proba(train_x_responseCoding)\n",
    "LR_tr = log_loss(y_train, predict_y, labels=clf.classes_, eps=1e-15)\n",
    "print('For values of best alpha = ', alpha[best_alpha], \"The train log loss is:\", LR_tr)\n",
    "predict_y = sig_clf.predict_proba(cv_x_responseCoding)\n",
    "LR_cv = log_loss(y_cv, predict_y, labels=clf.classes_, eps=1e-15)\n",
    "print('For values of best alpha = ', alpha[best_alpha], \"The cross validation log loss is:\", LR_cv)\n",
    "predict_y = sig_clf.predict_proba(test_x_responseCoding)\n",
    "LR_test = log_loss(y_test, predict_y, labels=clf.classes_, eps=1e-15)\n",
    "print('For values of best alpha = ', alpha[best_alpha], \"The test log loss is:\", LR_test)\n",
    "\n",
    "#For Summary\n",
    "Model_name.append(\"Logistic Regresion-RC (with class_balancing)\")\n",
    "train_losses_list.append(LR_tr)\n",
    "cv_losses_list.append(LR_cv)\n",
    "test_losses_list.append(LR_test)"
   ]
  },
  {
   "cell_type": "markdown",
   "metadata": {
    "id": "d6sk6Z7NOQzp"
   },
   "source": [
    "<h4><font color='#82ADCB'>Testing the model with best hyper paramters</font></h4>"
   ]
  },
  {
   "cell_type": "code",
   "execution_count": 43,
   "metadata": {
    "id": "HEeyfXMIOQzp",
    "outputId": "34f85ffd-4d08-4e0a-8ac0-b8608a938bbe",
    "scrolled": false
   },
   "outputs": [
    {
     "name": "stdout",
     "output_type": "stream",
     "text": [
      "Log loss : 0.7781516434912268\n",
      "Number of mis-classified points : 0.3692103147609919\n"
     ]
    }
   ],
   "source": [
    "clf = SGDClassifier(class_weight='balanced',alpha=alpha[best_alpha], penalty='l2', loss='log', random_state=42)\n",
    "missclassified_p = predict_and_plot_confusion_matrix(train_x_responseCoding, train_y, cv_x_responseCoding, cv_y, clf)\n",
    "misclassified_percentage.append(missclassified_p*100)"
   ]
  },
  {
   "cell_type": "markdown",
   "metadata": {
    "id": "CEnJCfulOQz8"
   },
   "source": [
    "<h3><font color='#235DA3'>Linear Support Vector Machines (with one hot encoding)</font></h3>"
   ]
  },
  {
   "cell_type": "markdown",
   "metadata": {
    "id": "nQfL7DVoOQz8"
   },
   "source": [
    "<h4><font color='#82ADCB'>Hyper parameter tuning</font></h4>"
   ]
  },
  {
   "cell_type": "code",
   "execution_count": 44,
   "metadata": {
    "id": "eH-oXVB3OQz9",
    "outputId": "28792e9b-acd3-458c-a36e-fddc68cc6fb9"
   },
   "outputs": [
    {
     "name": "stdout",
     "output_type": "stream",
     "text": [
      "for C = 1e-05\n",
      "Log Loss : 0.6181441786944876\n",
      "for C = 0.0001\n",
      "Log Loss : 0.6155338849638095\n",
      "for C = 0.001\n",
      "Log Loss : 0.6155408197369094\n",
      "for C = 0.01\n",
      "Log Loss : 0.6155418652206802\n",
      "for C = 0.1\n",
      "Log Loss : 0.6155418653173673\n",
      "for C = 1\n",
      "Log Loss : 0.6155418654424558\n",
      "for C = 10\n",
      "Log Loss : 0.6155418649413541\n",
      "for C = 100\n",
      "Log Loss : 0.615541864146315\n"
     ]
    },
    {
     "data": {
      "image/png": "[encoded data removed]",
      "text/plain": [
       "<Figure size 432x288 with 1 Axes>"
      ]
     },
     "metadata": {
      "needs_background": "light"
     },
     "output_type": "display_data"
    },
    {
     "name": "stdout",
     "output_type": "stream",
     "text": [
      "For values of best alpha =  0.0001 The train log loss is: 0.568871317460526\n",
      "For values of best alpha =  0.0001 The cross validation log loss is: 0.6155338849638095\n",
      "For values of best alpha =  0.0001 The test log loss is: 0.5988891126343089\n"
     ]
    }
   ],
   "source": [
    "alpha = [10 ** x for x in range(-5, 3)]\n",
    "cv_log_error_array = []\n",
    "for i in alpha:\n",
    "    print(\"for C =\", i)\n",
    "#     clf = SVC(C=i,kernel='linear',probability=True, class_weight='balanced')\n",
    "    clf = SGDClassifier(class_weight='balanced',alpha=i, penalty='l2', loss='hinge', random_state=42)\n",
    "    clf.fit(train_x_onehotCoding, train_y)\n",
    "    sig_clf = CalibratedClassifierCV(clf, method=\"sigmoid\")\n",
    "    sig_clf.fit(train_x_onehotCoding, train_y)\n",
    "    sig_clf_probs = sig_clf.predict_proba(cv_x_onehotCoding)\n",
    "    cv_log_error_array.append(log_loss(cv_y, sig_clf_probs, labels=clf.classes_, eps=1e-15))\n",
    "    print(\"Log Loss :\",log_loss(cv_y, sig_clf_probs)) \n",
    "\n",
    "fig, ax = plt.subplots()\n",
    "ax.plot(alpha, cv_log_error_array,c='g')\n",
    "for i, txt in enumerate(np.round(cv_log_error_array,3)):\n",
    "    ax.annotate((alpha[i],str(txt)), (alpha[i],cv_log_error_array[i]))\n",
    "plt.grid()\n",
    "plt.title(\"Cross Validation Error for each alpha\")\n",
    "plt.xlabel(\"Alpha i's\")\n",
    "plt.ylabel(\"Error measure\")\n",
    "plt.show()\n",
    "\n",
    "\n",
    "best_alpha = np.argmin(cv_log_error_array)\n",
    "# clf = SVC(C=i,kernel='linear',probability=True, class_weight='balanced')\n",
    "clf = SGDClassifier(class_weight='balanced',alpha=alpha[best_alpha], penalty='l2', loss='hinge', random_state=42)\n",
    "clf.fit(train_x_onehotCoding, train_y)\n",
    "sig_clf = CalibratedClassifierCV(clf, method=\"sigmoid\")\n",
    "sig_clf.fit(train_x_onehotCoding, train_y)\n",
    "\n",
    "predict_y = sig_clf.predict_proba(train_x_onehotCoding)\n",
    "SVM_tr = log_loss(y_train, predict_y, labels=clf.classes_, eps=1e-15)\n",
    "print('For values of best alpha = ', alpha[best_alpha], \"The train log loss is:\",SVM_tr)\n",
    "predict_y = sig_clf.predict_proba(cv_x_onehotCoding)\n",
    "SVM_cv = log_loss(y_cv, predict_y, labels=clf.classes_, eps=1e-15)\n",
    "print('For values of best alpha = ', alpha[best_alpha], \"The cross validation log loss is:\",SVM_cv)\n",
    "predict_y = sig_clf.predict_proba(test_x_onehotCoding)\n",
    "SVM_te = log_loss(y_test, predict_y, labels=clf.classes_, eps=1e-15)\n",
    "print('For values of best alpha = ', alpha[best_alpha], \"The test log loss is:\", SVM_te)\n",
    "#For Summary\n",
    "Model_name.append(\"SVM-OHE (with class_balancing)\")\n",
    "train_losses_list.append(SVM_tr)\n",
    "cv_losses_list.append(SVM_cv)\n",
    "test_losses_list.append(SVM_te)"
   ]
  },
  {
   "cell_type": "markdown",
   "metadata": {
    "id": "xrPFI2mIOQz-"
   },
   "source": [
    "<h4><font color='#82ADCB'>Testing model with best hyper parameters</font></h4>"
   ]
  },
  {
   "cell_type": "code",
   "execution_count": 45,
   "metadata": {
    "id": "aE_tZXkQOQz_",
    "outputId": "3a026f35-c766-4159-a8f7-af27652a740e"
   },
   "outputs": [
    {
     "name": "stdout",
     "output_type": "stream",
     "text": [
      "Log loss : 0.6155338849638095\n",
      "Number of mis-classified points : 0.28925236534537135\n"
     ]
    }
   ],
   "source": [
    "clf = SGDClassifier(class_weight='balanced',alpha=alpha[best_alpha], penalty='l2', loss='hinge', random_state=42)\n",
    "missclassified_p = predict_and_plot_confusion_matrix(train_x_onehotCoding, train_y,cv_x_onehotCoding,cv_y, clf)\n",
    "misclassified_percentage.append(missclassified_p*100)"
   ]
  },
  {
   "cell_type": "markdown",
   "metadata": {
    "id": "CEnJCfulOQz8"
   },
   "source": [
    "<h3><font color='#235DA3'>Linear Support Vector Machines (with response)</font></h3>"
   ]
  },
  {
   "cell_type": "markdown",
   "metadata": {
    "id": "nQfL7DVoOQz8"
   },
   "source": [
    "<h4><font color='#82ADCB'>Hyper parameter tuning</font></h4>"
   ]
  },
  {
   "cell_type": "code",
   "execution_count": 46,
   "metadata": {
    "id": "eH-oXVB3OQz9",
    "outputId": "28792e9b-acd3-458c-a36e-fddc68cc6fb9"
   },
   "outputs": [
    {
     "name": "stdout",
     "output_type": "stream",
     "text": [
      "for C = 1e-05\n",
      "Log Loss : 0.7784494385649663\n",
      "for C = 0.0001\n",
      "Log Loss : 0.7785791639454424\n",
      "for C = 0.001\n",
      "Log Loss : 0.7787085744038585\n",
      "for C = 0.01\n",
      "Log Loss : 0.7787162508222436\n",
      "for C = 0.1\n",
      "Log Loss : 0.7786595393603495\n",
      "for C = 1\n",
      "Log Loss : 0.7064294079746071\n",
      "for C = 10\n",
      "Log Loss : 0.7781002503951344\n",
      "for C = 100\n",
      "Log Loss : 0.7781020055913382\n"
     ]
    },
    {
     "data": {
      "image/png": "[encoded data removed]",
      "text/plain": [
       "<Figure size 432x288 with 1 Axes>"
      ]
     },
     "metadata": {
      "needs_background": "light"
     },
     "output_type": "display_data"
    },
    {
     "name": "stdout",
     "output_type": "stream",
     "text": [
      "For values of best alpha =  1 The train log loss is: 0.6337500330905343\n",
      "For values of best alpha =  1 The cross validation log loss is: 0.7064294079746071\n",
      "For values of best alpha =  1 The test log loss is: 0.6820178434671406\n"
     ]
    }
   ],
   "source": [
    "alpha = [10 ** x for x in range(-5, 3)]\n",
    "cv_log_error_array = []\n",
    "for i in alpha:\n",
    "    print(\"for C =\", i)\n",
    "#     clf = SVC(C=i,kernel='linear',probability=True, class_weight='balanced')\n",
    "    clf = SGDClassifier(alpha=i, penalty='l2', loss='hinge', random_state=42)\n",
    "    clf.fit(train_x_responseCoding, train_y)\n",
    "    sig_clf = CalibratedClassifierCV(clf, method=\"sigmoid\")\n",
    "    sig_clf.fit(train_x_responseCoding, train_y)\n",
    "    sig_clf_probs = sig_clf.predict_proba(cv_x_responseCoding)\n",
    "    cv_log_error_array.append(log_loss(cv_y, sig_clf_probs, labels=clf.classes_, eps=1e-15))\n",
    "    print(\"Log Loss :\",log_loss(cv_y, sig_clf_probs)) \n",
    "\n",
    "fig, ax = plt.subplots()\n",
    "ax.plot(alpha, cv_log_error_array,c='g')\n",
    "for i, txt in enumerate(np.round(cv_log_error_array,3)):\n",
    "    ax.annotate((alpha[i],str(txt)), (alpha[i],cv_log_error_array[i]))\n",
    "plt.grid()\n",
    "plt.title(\"Cross Validation Error for each alpha\")\n",
    "plt.xlabel(\"Alpha i's\")\n",
    "plt.ylabel(\"Error measure\")\n",
    "plt.show()\n",
    "\n",
    "\n",
    "best_alpha = np.argmin(cv_log_error_array)\n",
    "# clf = SVC(C=i,kernel='linear',probability=True, class_weight='balanced')\n",
    "clf = SGDClassifier(alpha=alpha[best_alpha], penalty='l2', loss='hinge', random_state=42)\n",
    "clf.fit(train_x_responseCoding, train_y)\n",
    "sig_clf = CalibratedClassifierCV(clf, method=\"sigmoid\")\n",
    "sig_clf.fit(train_x_responseCoding, train_y)\n",
    "\n",
    "predict_y = sig_clf.predict_proba(train_x_responseCoding)\n",
    "SVM_tr = log_loss(y_train, predict_y, labels=clf.classes_, eps=1e-15)\n",
    "print('For values of best alpha = ', alpha[best_alpha], \"The train log loss is:\",SVM_tr)\n",
    "predict_y = sig_clf.predict_proba(cv_x_responseCoding)\n",
    "SVM_cv = log_loss(y_cv, predict_y, labels=clf.classes_, eps=1e-15)\n",
    "print('For values of best alpha = ', alpha[best_alpha], \"The cross validation log loss is:\",SVM_cv)\n",
    "predict_y = sig_clf.predict_proba(test_x_responseCoding)\n",
    "SVM_te = log_loss(y_test, predict_y, labels=clf.classes_, eps=1e-15)\n",
    "print('For values of best alpha = ', alpha[best_alpha], \"The test log loss is:\", SVM_te)\n",
    "#For Summary\n",
    "Model_name.append(\"Linear SVM-RC (with class_balancing)\")\n",
    "train_losses_list.append(SVM_tr)\n",
    "cv_losses_list.append(SVM_cv)\n",
    "test_losses_list.append(SVM_te)"
   ]
  },
  {
   "cell_type": "markdown",
   "metadata": {
    "id": "xrPFI2mIOQz-"
   },
   "source": [
    "<h4><font color='#82ADCB'>Testing model with best hyper parameters</font></h4>"
   ]
  },
  {
   "cell_type": "code",
   "execution_count": 47,
   "metadata": {
    "id": "aE_tZXkQOQz_",
    "outputId": "3a026f35-c766-4159-a8f7-af27652a740e"
   },
   "outputs": [
    {
     "name": "stdout",
     "output_type": "stream",
     "text": [
      "Log loss : 0.778745610064188\n",
      "Number of mis-classified points : 0.3692103147609919\n"
     ]
    }
   ],
   "source": [
    "clf = SGDClassifier(class_weight='balanced',alpha=alpha[best_alpha], penalty='l2', loss='hinge', random_state=42)\n",
    "missclassified_p = predict_and_plot_confusion_matrix(train_x_responseCoding, train_y,cv_x_responseCoding,cv_y, clf)\n",
    "misclassified_percentage.append(missclassified_p*100)"
   ]
  },
  {
   "cell_type": "code",
   "execution_count": 48,
   "metadata": {},
   "outputs": [],
   "source": [
    "from sklearn.ensemble import RandomForestClassifier"
   ]
  },
  {
   "cell_type": "markdown",
   "metadata": {
    "id": "Qo8UpfnJOQ0G"
   },
   "source": [
    "<h3><font color='#235DA3'>Random Forest Classifier(With One hot Encoding)</font></h3>"
   ]
  },
  {
   "cell_type": "markdown",
   "metadata": {
    "id": "vQ9sdCvQOQ0H"
   },
   "source": [
    "<h4><font color='#82ADCB'>Hyper parameter tuning</font></h4>"
   ]
  },
  {
   "cell_type": "code",
   "execution_count": 49,
   "metadata": {
    "id": "LNV3DyqiOQ0H",
    "outputId": "a9d6a39c-e16f-4330-ceec-850b854a3438"
   },
   "outputs": [],
   "source": [
    "# alpha = [100,200,500,1000,2000]\n",
    "# max_depth = [5, 10]\n",
    "# cv_log_error_array = []\n",
    "# # cls_weight = {1:1/9, 2:1/9, 3:1/9, 4:1/9, 5:1/9, 6:1/9, 7:1/9, 8:1/9, 9:1/9}\n",
    "# for i in alpha:\n",
    "#     for j in max_depth:\n",
    "#         print(\"for n_estimators =\", i,\"and max depth = \", j)\n",
    "#         clf = RandomForestClassifier(n_estimators=i, criterion='gini', max_depth=j, random_state=42, n_jobs=-1, class_weight='balanced')\n",
    "#         clf.fit(train_x_onehotCoding, train_y)\n",
    "#         sig_clf = CalibratedClassifierCV(clf, method=\"sigmoid\")\n",
    "#         sig_clf.fit(train_x_onehotCoding, train_y)\n",
    "#         sig_clf_probs = sig_clf.predict_proba(cv_x_onehotCoding)\n",
    "#         cv_log_error_array.append(log_loss(cv_y, sig_clf_probs, labels=clf.classes_, eps=1e-15))\n",
    "#         print(\"Log Loss :\",log_loss(cv_y, sig_clf_probs)) \n",
    "\n",
    "# best_alpha = np.argmin(cv_log_error_array)\n",
    "# clf = RandomForestClassifier(n_estimators=alpha[int(best_alpha/2)], criterion='gini', max_depth=max_depth[int(best_alpha%2)], random_state=42, n_jobs=-1,class_weight='balanced')\n",
    "# clf.fit(train_x_onehotCoding, train_y)\n",
    "# sig_clf = CalibratedClassifierCV(clf, method=\"sigmoid\")\n",
    "# sig_clf.fit(train_x_onehotCoding, train_y)\n",
    "\n",
    "# predict_y = sig_clf.predict_proba(train_x_onehotCoding)\n",
    "# RF_tr = log_loss(y_train, predict_y, labels=clf.classes_, eps=1e-15)\n",
    "# print('For values of best estimator = ', alpha[int(best_alpha/2)], \"The train log loss is:\",RF_tr)\n",
    "# predict_y = sig_clf.predict_proba(cv_x_onehotCoding)\n",
    "# RF_cv = log_loss(y_cv, predict_y, labels=clf.classes_, eps=1e-15)\n",
    "# print('For values of best estimator = ', alpha[int(best_alpha/2)], \"The cross validation log loss is:\",RF_cv)\n",
    "# predict_y = sig_clf.predict_proba(test_x_onehotCoding)\n",
    "# RF_te = log_loss(y_test, predict_y, labels=clf.classes_, eps=1e-15)\n",
    "# print('For values of best estimator = ', alpha[int(best_alpha/2)], \"The test log loss is:\",RF_te)\n",
    "\n",
    "# #For Summary\n",
    "# Model_name.append(\"Randpm Forest-OHE (with class_balancing)\")\n",
    "# train_losses_list.append(RF_tr)\n",
    "# cv_losses_list.append(RF_cv)\n",
    "# test_losses_list.append(RF_te)"
   ]
  },
  {
   "cell_type": "markdown",
   "metadata": {
    "id": "EsQtPEFoOQ0K"
   },
   "source": [
    "<h4><font color='#82ADCB'>Testing model with best hyper parameters (One Hot Encoding)</font></h4>"
   ]
  },
  {
   "cell_type": "code",
   "execution_count": 50,
   "metadata": {
    "id": "qubuQ89sOQ0L",
    "outputId": "4fd307d7-2ccd-4947-e4a9-8de4516930c2"
   },
   "outputs": [],
   "source": [
    "# clf = RandomForestClassifier(n_estimators=alpha[int(best_alpha/2)], criterion='gini', max_depth=max_depth[int(best_alpha%2)], random_state=42, n_jobs=-1,class_weight='balanced')\n",
    "# missclassified_p = predict_and_plot_confusion_matrix(train_x_onehotCoding, train_y,cv_x_onehotCoding,cv_y, clf)\n",
    "# misclassified_percentage.append(missclassified_p*100)"
   ]
  },
  {
   "cell_type": "markdown",
   "metadata": {
    "id": "E3LW-91MOQ0M"
   },
   "source": [
    "<h3>4.5.3. Feature Importance</h3>"
   ]
  },
  {
   "cell_type": "markdown",
   "metadata": {
    "id": "kqP0GqsTOQ0N"
   },
   "source": [
    "<h4>4.5.3.1. Correctly Classified point</h4>"
   ]
  },
  {
   "cell_type": "code",
   "execution_count": 51,
   "metadata": {},
   "outputs": [],
   "source": [
    "# def get_impfeature_names(indices, text, gene, var, no_features):\n",
    "#     gene_count_vec = TfidfVectorizer(max_features=1000)\n",
    "#     var_count_vec = TfidfVectorizer(max_features=1000)\n",
    "#     text_count_vec = TfidfVectorizer(max_features=1000)\n",
    "\n",
    "#     gene_vec = gene_count_vec.fit(train_df['Gene'])\n",
    "#     var_vec = var_count_vec.fit(train_df['Variation'])\n",
    "#     text_vec = text_count_vec.fit(train_df['TEXT'])\n",
    "\n",
    "#     fea1_len = len(gene_vec.get_feature_names())\n",
    "#     fea2_len = len(var_count_vec.get_feature_names())\n",
    "\n",
    "#     word_present = 0\n",
    "#     for i, v in enumerate(indices):\n",
    "#         if (v < fea1_len):\n",
    "#             word = gene_vec.get_feature_names()[v]\n",
    "#             yes_no = True if word == gene else False\n",
    "#             if yes_no:\n",
    "#                 word_present += 1\n",
    "#                 print(i, \"Gene feature [{}] present in test data point [{}]\".format(word, yes_no))\n",
    "#         elif (v < fea1_len + fea2_len):\n",
    "#             word = var_vec.get_feature_names()[v - (fea1_len)]\n",
    "#             yes_no = True if word == var else False\n",
    "#             if yes_no:\n",
    "#                 word_present += 1\n",
    "#                 print(i, \"variation feature [{}] present in test data point [{}]\".format(word, yes_no))\n",
    "#         else:\n",
    "#             word = text_vec.get_feature_names()[v - (fea1_len + fea2_len)]\n",
    "#             yes_no = True if word in text.split() else False\n",
    "#             if yes_no:\n",
    "#                 word_present += 1\n",
    "#                 print(i, \"Text feature [{}] present in test data point [{}]\".format(word, yes_no))\n",
    "\n",
    "#     print(\"Out of the top \", no_features, \" features \", word_present, \"are present in query point\")"
   ]
  },
  {
   "cell_type": "code",
   "execution_count": 52,
   "metadata": {
    "id": "pRpvSps1OQ0N",
    "outputId": "b959eecd-947e-40b4-8baa-0cebfa975ac8",
    "scrolled": false
   },
   "outputs": [],
   "source": [
    "# # test_point_index = 10\n",
    "# clf = RandomForestClassifier(n_estimators=alpha[int(best_alpha/2)], criterion='gini', max_depth=max_depth[int(best_alpha%2)], random_state=42, n_jobs=-1,class_weight='balanced')\n",
    "# clf.fit(train_x_onehotCoding, train_y)\n",
    "# sig_clf = CalibratedClassifierCV(clf, method=\"sigmoid\")\n",
    "# sig_clf.fit(train_x_onehotCoding, train_y)\n",
    "\n",
    "# test_point_index = 1\n",
    "# no_feature = 100\n",
    "# predicted_cls = sig_clf.predict(test_x_onehotCoding[test_point_index])\n",
    "# print(\"Predicted Class :\", predicted_cls[0])\n",
    "# print(\"Predicted Class Probabilities:\", np.round(sig_clf.predict_proba(test_x_onehotCoding[test_point_index]),4))\n",
    "# print(\"Actual Class :\", test_y[test_point_index])\n",
    "# indices = np.argsort(-clf.feature_importances_)\n",
    "# print(\"-\"*50)\n",
    "# get_impfeature_names(indices[:no_feature], test_df['TEXT'].iloc[test_point_index],test_df['Gene'].iloc[test_point_index],test_df['Variation'].iloc[test_point_index], no_feature)"
   ]
  },
  {
   "cell_type": "markdown",
   "metadata": {
    "id": "yobvR_gdOQ0O"
   },
   "source": [
    "<h4>4.5.3.2. Inorrectly Classified point</h4>"
   ]
  },
  {
   "cell_type": "code",
   "execution_count": 53,
   "metadata": {
    "id": "clV1VBToOQ0R",
    "outputId": "f0eab711-1ce4-4290-f304-8c1dda45760b",
    "scrolled": false
   },
   "outputs": [],
   "source": [
    "# test_point_index = 100\n",
    "# no_feature = 100\n",
    "# predicted_cls = sig_clf.predict(test_x_onehotCoding[test_point_index])\n",
    "# print(\"Predicted Class :\", predicted_cls[0])\n",
    "# print(\"Predicted Class Probabilities:\", np.round(sig_clf.predict_proba(test_x_onehotCoding[test_point_index]),4))\n",
    "# print(\"Actuall Class :\", test_y[test_point_index])\n",
    "# indices = np.argsort(-clf.feature_importances_)\n",
    "# print(\"-\"*50)\n",
    "# get_impfeature_names(indices[:no_feature], test_df['TEXT'].iloc[test_point_index],test_df['Gene'].iloc[test_point_index],test_df['Variation'].iloc[test_point_index], no_feature)"
   ]
  },
  {
   "cell_type": "markdown",
   "metadata": {
    "id": "Qo8UpfnJOQ0G"
   },
   "source": [
    "<h3><font color='#235DA3'>Random Forest Classifier(With response coding)</font></h3>"
   ]
  },
  {
   "cell_type": "markdown",
   "metadata": {
    "id": "vQ9sdCvQOQ0H"
   },
   "source": [
    "<h4><font color='#82ADCB'>Hyper parameter tuning</font></h4>"
   ]
  },
  {
   "cell_type": "code",
   "execution_count": 54,
   "metadata": {
    "id": "LNV3DyqiOQ0H",
    "outputId": "a9d6a39c-e16f-4330-ceec-850b854a3438"
   },
   "outputs": [],
   "source": [
    "# max_depth = [5, 10]\n",
    "# cv_log_error_array = []\n",
    "\n",
    "# for j in max_depth:\n",
    "#     print(\"for n_estimators =\", i,\"and max depth = \", j)\n",
    "#     clf = RandomForestClassifier(n_estimators=600, criterion='gini', max_depth=j, random_state=42, n_jobs=-1,class_weight='balanced')\n",
    "#     clf.fit(train_x_responseCoding, train_y)\n",
    "#     sig_clf = CalibratedClassifierCV(clf, method=\"sigmoid\")\n",
    "#     sig_clf.fit(train_x_responseCoding, train_y)\n",
    "#     sig_clf_probs = sig_clf.predict_proba(cv_x_responseCoding)\n",
    "#     cv_log_error_array.append(log_loss(cv_y, sig_clf_probs, labels=clf.classes_, eps=1e-15))\n",
    "#     print(\"Log Loss :\",log_loss(cv_y, sig_clf_probs)) \n",
    "\n",
    "# best_alpha = np.argmin(cv_log_error_array)\n",
    "# clf = RandomForestClassifier(n_estimators=600, criterion='gini', max_depth=max_depth[best_alpha], random_state=42, n_jobs=-1,class_weight='balanced')\n",
    "# clf.fit(train_x_responseCoding, train_y)\n",
    "# sig_clf = CalibratedClassifierCV(clf, method=\"sigmoid\")\n",
    "# sig_clf.fit(train_x_responseCoding, train_y)\n",
    "\n",
    "# predict_y = sig_clf.predict_proba(train_x_responseCoding)\n",
    "# RF_tr = log_loss(y_train, predict_y, labels=clf.classes_, eps=1e-15)\n",
    "# print('For values of best estimator = ', alpha[int(best_alpha/2)], \"The train log loss is:\",RF_tr)\n",
    "# predict_y = sig_clf.predict_proba(cv_x_responseCoding)\n",
    "# RF_cv = log_loss(y_cv, predict_y, labels=clf.classes_, eps=1e-15)\n",
    "# print('For values of best estimator = ', alpha[int(best_alpha/2)], \"The cross validation log loss is:\",RF_cv)\n",
    "# predict_y = sig_clf.predict_proba(test_x_responseCoding)\n",
    "# RF_te = log_loss(y_test, predict_y, labels=clf.classes_, eps=1e-15)\n",
    "# print('For values of best estimator = ', alpha[int(best_alpha/2)], \"The test log loss is:\",RF_te)\n",
    "\n",
    "# #For Summary\n",
    "# Model_name.append(\"Randpm Forest-RC\")\n",
    "# train_losses_list.append(RF_tr)\n",
    "# cv_losses_list.append(RF_cv)\n",
    "# test_losses_list.append(RF_te)"
   ]
  },
  {
   "cell_type": "markdown",
   "metadata": {
    "id": "EsQtPEFoOQ0K"
   },
   "source": [
    "<h4><font color='#82ADCB'>Testing model with best hyper parameters (One Hot Encoding)</font></h4>"
   ]
  },
  {
   "cell_type": "code",
   "execution_count": 55,
   "metadata": {
    "id": "qubuQ89sOQ0L",
    "outputId": "4fd307d7-2ccd-4947-e4a9-8de4516930c2"
   },
   "outputs": [],
   "source": [
    "# clf = RandomForestClassifier(n_estimators=600, criterion='gini', max_depth=max_depth[best_alpha], random_state=42, n_jobs=-1,class_weight='balanced')\n",
    "# missclassified_p = predict_and_plot_confusion_matrix(train_x_responseCoding, train_y,cv_x_responseCoding,cv_y, clf, 1)\n",
    "# misclassified_percentage.append(missclassified_p*100)"
   ]
  },
  {
   "cell_type": "markdown",
   "metadata": {
    "id": "E3LW-91MOQ0M"
   },
   "source": [
    "<h3>4.5.3. Feature Importance</h3>"
   ]
  },
  {
   "cell_type": "markdown",
   "metadata": {
    "id": "kqP0GqsTOQ0N"
   },
   "source": [
    "<h4>4.5.3.1. Correctly Classified point</h4>"
   ]
  },
  {
   "cell_type": "markdown",
   "metadata": {},
   "source": [
    "<h3><font color='#235DA3'>XGBoost(With response coding)</font></h3>"
   ]
  },
  {
   "cell_type": "code",
   "execution_count": 56,
   "metadata": {},
   "outputs": [],
   "source": [
    "# from xgboost import XGBClassifier\n",
    "# # alpha = [100, 500, 700]\n",
    "# max_depth =  [3, 6 ]\n",
    "# cv_log_error_array = []\n",
    "\n",
    "# for j in max_depth:\n",
    "# #             print(\"for n_estimators =\", i,\"and max depth = \", j)\n",
    "#         clf = XGBClassifier(n_estimators=600, objective='binary:logistic' , max_depth=j, random_state=42, eval_metric='logloss')\n",
    "#         clf.fit(train_x_responseCoding, train_y)\n",
    "#         sig_clf = CalibratedClassifierCV(clf, method=\"sigmoid\")\n",
    "#         sig_clf.fit(train_x_responseCoding, train_y)\n",
    "#         sig_clf_probs = sig_clf.predict_proba(cv_x_responseCoding)\n",
    "#         cv_log_error_array.append(log_loss(cv_y, sig_clf_probs, labels=clf.classes_, eps=1e-15))\n",
    "#         print(\"Log Loss :\",log_loss(cv_y, sig_clf_probs)) \n",
    "\n",
    "# best_alpha = np.argmin(cv_log_error_array)\n",
    "# clf = XGBClassifier(n_estimators=600, objective='binary:logistic', max_depth=max_depth[best_alpha], random_state=42, eval_metric='logloss')\n",
    "# clf.fit(train_x_responseCoding, train_y)\n",
    "# sig_clf = CalibratedClassifierCV(clf, method=\"sigmoid\")\n",
    "# sig_clf.fit(train_x_responseCoding, train_y)\n",
    "\n",
    "# predict_y = sig_clf.predict_proba(train_x_responseCoding)\n",
    "# xgboost_tr = log_loss(y_train, predict_y, labels=clf.classes_, eps=1e-15)\n",
    "# print('For values of best estimator = ', alpha[int(best_alpha/2)], \"The train log loss is:\",xgboost_tr)\n",
    "# predict_y = sig_clf.predict_proba(cv_x_responseCoding)\n",
    "# xgboost_cv = log_loss(y_cv, predict_y, labels=clf.classes_, eps=1e-15)\n",
    "# print('For values of best estimator = ', alpha[int(best_alpha/2)], \"The cross validation log loss is:\",xgboost_cv)\n",
    "# predict_y = sig_clf.predict_proba(test_x_responseCoding)\n",
    "# xgboost_te = log_loss(y_test, predict_y, labels=clf.classes_, eps=1e-15)\n",
    "# print('For values of best estimator = ', alpha[int(best_alpha/2)], \"The test log loss is:\",xgboost_te)\n",
    "\n",
    "# #For Summary\n",
    "# Model_name.append(\"XGBoost-RC\")\n",
    "# train_losses_list.append(xgboost_tr)\n",
    "# cv_losses_list.append(xgboost_cv)\n",
    "# test_losses_list.append(xgboost_te)"
   ]
  },
  {
   "cell_type": "code",
   "execution_count": 57,
   "metadata": {},
   "outputs": [],
   "source": [
    "# clf = XGBClassifier(n_estimators=600, objective='binary:logistic', max_depth=max_depth[best_alpha], random_state=42, eval_metric='logloss')\n",
    "# missclassified_p = predict_and_plot_confusion_matrix(train_x_responseCoding, train_y,cv_x_responseCoding,cv_y, clf, 1)\n",
    "# misclassified_percentage.append(missclassified_p*100)"
   ]
  },
  {
   "cell_type": "markdown",
   "metadata": {},
   "source": [
    "<h2><font color='#40B5C4'>Summary </font></h2>"
   ]
  },
  {
   "cell_type": "code",
   "execution_count": 58,
   "metadata": {},
   "outputs": [
    {
     "name": "stdout",
     "output_type": "stream",
     "text": [
      "+----------------+---------------+-------------+---------------+---------------+\n",
      "|     Models     | train_log_los | cv_log_loss | test_log_loss | %_misclassifi |\n",
      "|                |       s       |             |               |      ed       |\n",
      "+================+===============+=============+===============+===============+\n",
      "| MultinomialNB- | 0.579         | 0.616       | 0.602         | 29.451        |\n",
      "| OHE            |               |             |               |               |\n",
      "+----------------+---------------+-------------+---------------+---------------+\n",
      "| MultinomialNB- | 0.637         | 0.727       | 0.694         | 36.921        |\n",
      "| RC             |               |             |               |               |\n",
      "+----------------+---------------+-------------+---------------+---------------+\n",
      "| Logistic       | 0.552         | 0.610       | 0.590         | 28.248        |\n",
      "| Regresion-OHE  |               |             |               |               |\n",
      "+----------------+---------------+-------------+---------------+---------------+\n",
      "| Logistic       | 0.627         | 0.777       | 0.723         | 36.921        |\n",
      "| Regresion-RC   |               |             |               |               |\n",
      "+----------------+---------------+-------------+---------------+---------------+\n",
      "| SVM-OHE        | 0.587         | 0.620       | 0.607         | 29.772        |\n",
      "+----------------+---------------+-------------+---------------+---------------+\n",
      "| Linear SVM-RC  | 0.634         | 0.706       | 0.682         | 36.921        |\n",
      "+----------------+---------------+-------------+---------------+---------------+\n",
      "| Logistic       | 0.552         | 0.610       | 0.590         | 28.247        |\n",
      "| Regresion-OHE  |               |             |               |               |\n",
      "| (with class_ba |               |             |               |               |\n",
      "| lancing)       |               |             |               |               |\n",
      "+----------------+---------------+-------------+---------------+---------------+\n",
      "| Logistic       | 0.627         | 0.778       | 0.724         | 36.921        |\n",
      "| Regresion-RC   |               |             |               |               |\n",
      "| (with class_ba |               |             |               |               |\n",
      "| lancing)       |               |             |               |               |\n",
      "+----------------+---------------+-------------+---------------+---------------+\n",
      "| SVM-OHE (with  | 0.569         | 0.616       | 0.599         | 28.925        |\n",
      "| class_balancin |               |             |               |               |\n",
      "| g)             |               |             |               |               |\n",
      "+----------------+---------------+-------------+---------------+---------------+\n",
      "| Linear SVM-RC  | 0.634         | 0.706       | 0.682         | 36.921        |\n",
      "| (with class_ba |               |             |               |               |\n",
      "| lancing)       |               |             |               |               |\n",
      "+----------------+---------------+-------------+---------------+---------------+\n"
     ]
    }
   ],
   "source": [
    "from texttable import Texttable\n",
    "#https://www.educative.io/edpresso/print-a-table-in-python\n",
    "# texttable takes the first reocrd in the list as the column names\n",
    "# of the table\n",
    "l = [['Models', 'train_log_loss', 'cv_log_loss', 'test_log_loss', '%_misclassified']]\n",
    "for i in range(len(Model_name)):\n",
    "    new_record = []\n",
    "    new_record.append(Model_name[i])\n",
    "    new_record.append(train_losses_list[i])\n",
    "    new_record.append(cv_losses_list[i])\n",
    "    new_record.append(test_losses_list[i])\n",
    "    new_record.append(misclassified_percentage[i])\n",
    "    l.append(new_record)\n",
    "    \n",
    "\n",
    "# table = tabulate(l, headers=, tablefmt='orgtbl')\n",
    "\n",
    "\n",
    "table = Texttable()\n",
    "table.add_rows(l)\n",
    "print(table.draw())"
   ]
  },
  {
   "cell_type": "code",
   "execution_count": null,
   "metadata": {},
   "outputs": [],
   "source": []
  }
 ],
 "metadata": {
  "kernelspec": {
   "display_name": "Python 3",
   "language": "python",
   "name": "python3"
  },
  "language_info": {
   "codemirror_mode": {
    "name": "ipython",
    "version": 3
   },
   "file_extension": ".py",
   "mimetype": "text/x-python",
   "name": "python",
   "nbconvert_exporter": "python",
   "pygments_lexer": "ipython3",
   "version": "3.7.6"
  }
 },
 "nbformat": 4,
 "nbformat_minor": 4
}
